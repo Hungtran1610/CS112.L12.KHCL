{
 "cells": [
  {
   "cell_type": "markdown",
   "metadata": {},
   "source": [
    "#`Tóm tắt`\n",
    "\n",
    "* Tìm dãy con liên tiếp có tổng lớn nhất\n",
    "\n",
    "#`Nhận dạng`\n",
    "\n",
    "* quy hoạch động\n",
    "\n",
    "#`Thiết kế thuật toán`\n",
    "\n",
    "* input: một dãy n các số có âm có dương (1 <= n <= 10^6)\n",
    "* output: tìm dãy con có tổng lớn nhất\n",
    "\n",
    "```\n",
    "res_data = {\n",
    "    'from': 1,\n",
    "    'to': len(data),\n",
    "    'sum': sum(data)\n",
    "}\n",
    "\n",
    "from_Var = 0\n",
    "\n",
    "lặp cho đến khi array_len lớn hơn from_var:\n",
    "    for i = from_var đến array_len:\n",
    "        if range_sum > res_data['sum']:\n",
    "            res_data['from'] = from_var + 1\n",
    "            res_data['to'] = i\n",
    "            res_data['sum'] = range_sum\n",
    "        from_var += 1\n",
    "```"
   ]
  },
  {
   "cell_type": "code",
   "execution_count": 3,
   "metadata": {},
   "outputs": [],
   "source": [
    "import re\n",
    "\n",
    "def read_data():\n",
    "    with open('input.txt', 'r') as file:\n",
    "        lines = file.readlines()\n",
    "\n",
    "    n = int(lines[0])\n",
    "    data_list = re.split('\\s', lines[1])\n",
    "    filtered_list = list(filter(lambda y: y != '', data_list))\n",
    "    res = list(map(lambda y: int(y), filtered_list))\n",
    "    \n",
    "    return res, n"
   ]
  },
  {
   "cell_type": "code",
   "execution_count": 4,
   "metadata": {},
   "outputs": [
    {
     "name": "stdout",
     "output_type": "stream",
     "text": [
      "{'from': 5, 'to': 15, 'sum': 12}\n"
     ]
    }
   ],
   "source": [
    "from_var = 0\n",
    "data, size = read_data()\n",
    "\n",
    "res_data = {\n",
    "    'from': 1,\n",
    "    'to': len(data),\n",
    "    'sum': sum(data)\n",
    "}\n",
    "\n",
    "while len(data) > from_var:\n",
    "    for i in range(from_var, len(data)):\n",
    "        range_sum = sum(data[from_var: i])\n",
    "        if range_sum > res_data['sum']:\n",
    "            res_data['from'] = from_var + 1\n",
    "            res_data['to'] = i\n",
    "            res_data['sum'] = range_sum\n",
    "    from_var += 1\n",
    "\n",
    "print(res_data)"
   ]
  },
  {
   "cell_type": "markdown",
   "metadata": {},
   "source": [
    "#PHƯƠNG ÁN 2:\n",
    "\n",
    "nguồn tham khảo: https://www.geeksforgeeks.org/largest-sum-contiguous-subarray/"
   ]
  },
  {
   "cell_type": "code",
   "execution_count": 9,
   "metadata": {},
   "outputs": [
    {
     "name": "stdout",
     "output_type": "stream",
     "text": [
      "{'from': 5, 'to': 14, 'sum': 12}\n"
     ]
    }
   ],
   "source": [
    "data, size = read_data()\n",
    "res_data = {\n",
    "    'from': 1,\n",
    "    'to': len(data),\n",
    "    'sum': sum(data)\n",
    "}\n",
    "\n",
    "max_so_far = -1\n",
    "max_ending_here = 0\n",
    "index = 0\n",
    "       \n",
    "for i in range(0, size): \n",
    "    max_ending_here += data[i] \n",
    "    if (max_so_far < max_ending_here):\n",
    "        max_so_far = max_ending_here \n",
    "        res_data['sum'] = max_so_far\n",
    "        res_data['from'] = index + 1\n",
    "        res_data['to'] = i + 1\n",
    "  \n",
    "    if max_ending_here < 0: \n",
    "        max_ending_here = 0\n",
    "        index = i + 1\n",
    "\n",
    "print(res_data)"
   ]
  },
  {
   "cell_type": "code",
   "execution_count": null,
   "metadata": {},
   "outputs": [],
   "source": []
  }
 ],
 "metadata": {
  "kernelspec": {
   "display_name": "Python 3",
   "language": "python",
   "name": "python3"
  },
  "language_info": {
   "codemirror_mode": {
    "name": "ipython",
    "version": 3
   },
   "file_extension": ".py",
   "mimetype": "text/x-python",
   "name": "python",
   "nbconvert_exporter": "python",
   "pygments_lexer": "ipython3",
   "version": "3.8.3"
  }
 },
 "nbformat": 4,
 "nbformat_minor": 1
}
