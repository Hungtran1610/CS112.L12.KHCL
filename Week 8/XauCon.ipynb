{
 "cells": [
  {
   "cell_type": "markdown",
   "metadata": {},
   "source": [
    "# Đề bài\n",
    "\n",
    "\n",
    "# Tóm tắt\n",
    "Tìm số lần biến đổi từ phân số 1 thành phân số 2\n",
    "\n",
    "# Nhận dạng\n",
    "Brute Force\n",
    "\n",
    "\n",
    "# Thiết kế thuật toán\n",
    "**1. Ý TƯỞNG:**\n",
    "\n",
    "Dùng vòng lặp while để biến đổi phân số a/b lần lượt cho đến khi biến đổi thành phân số c/d, xuất ra số bước biến đổi. Nếu không tìm ra thì xuất ra là 0 bước.\n",
    "\n",
    "Các bước: \n",
    "- Kiểm tra phân số a/b và c/d. Nếu a/b lớn hơn c/d thì xuất ra bằng không, ngược lại thực hiện tiếp vào vòng while.\n",
    "- Sử dụng vòng while để tăng a và b lên 1, sau đó tìm ước chung lớn nhất của a và b.\n",
    "- Chia a và b cho ước chung lớn nhất và kiểm tra xem a/b có bằng c/d không, nếu không thì tiếp tục lặp.\n",
    "\n",
    "\n",
    "**2. THUẬT TOÁN:**\n",
    "\n",
    "Để tối ưu về thời gian, ta nên sử dụng vòng lặp while. Bên cạnh đó, ta thấy c/d luôn giữ nguyên chỉ có a,b thay đổi. Vì thế ta tạo biến temp = c/d để tối ưu nhất ở mỗi vòng lặp.\n",
    "\n",
    "**_Pseudo code:_**\n",
    "```\n",
    "Khởi tạo:\n",
    "    count = 0\n",
    "Chương trình chính:\n",
    "    Lặp cho đến khi a/b < c/d\n",
    "        1.Thêm 1 vào a\n",
    "        2.Thêm 1 vào b\n",
    "        3.Thêm 1 vào biến đếm count\n",
    "        4.Tìm ước chung lớn nhất(UCLN) của a và b\n",
    "        5.Chia a và b cho UCLN vừa tìm được, nếu a/b > c/d thì xuất 0, ngược lại sẽ xuất giá trị biến count.\n",
    "In ra kết quả biến count\n",
    "```\n",
    "\n",
    "# Cài đặt"
   ]
  },
  {
   "cell_type": "code",
   "execution_count": null,
   "metadata": {},
   "outputs": [],
   "source": []
  }
 ],
 "metadata": {
  "kernelspec": {
   "display_name": "Python 3",
   "language": "python",
   "name": "python3"
  },
  "language_info": {
   "codemirror_mode": {
    "name": "ipython",
    "version": 3
   },
   "file_extension": ".py",
   "mimetype": "text/x-python",
   "name": "python",
   "nbconvert_exporter": "python",
   "pygments_lexer": "ipython3",
   "version": "3.7.6"
  }
 },
 "nbformat": 4,
 "nbformat_minor": 4
}
