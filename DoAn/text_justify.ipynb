{
 "cells": [
  {
   "cell_type": "markdown",
   "metadata": {},
   "source": [
    "# Đề bài\n",
    "\n",
    "Cho một danh sách A chứa những từ thuộc ngôn ngữ tự nhiên và một số nguyên b cho biết giới hạn về số lượng ký tự có thể chứa trong một dòng của văn bản. Bài toán đặt ra là bố trí các từ một cách thẫm mỹ vào các hàng để tạo nên một văn bản hoàn chỉnh.\n",
    "\n",
    "# Input\n",
    "\n",
    "Một danh sách A, trong đó\n",
    "- Một từ trong danh sách A không được tồn tại kí tự \" \"\n",
    "- Dộ dài mỗi từ phải được đảm bảo là lớn hơn 0\n",
    "- Đầu vào chương trình là A phải chứa ít nhất một kí tự\n",
    "\n",
    "và các điều kiện \n",
    "- 1 <= A.length <= 300\n",
    "- 1 <= A[i].length <= 300\n",
    "- 1 <= maxWidght <= 100\n",
    "    \n",
    "# Output\n",
    "nguồn: [leetcode](https://leetcode.com/problems/text-justification/)\n",
    "```\n",
    "Input: words = [\"What\",\"must\",\"be\",\"acknowledgment\",\"shall\",\"be\"], maxWidth = 16\n",
    "\n",
    "Output:\n",
    "[\n",
    "  \"What   must   be\",\n",
    "  \"acknowledgment  \",\n",
    "  \"shall be        \"\n",
    "]\n",
    "\n",
    "Input: words = [\"Science\",\"is\",\"what\",\"we\",\"understand\",\"well\",\"enough\",\"to\",\"explain\",\"to\",\"a\",\"computer.\",\"Art\",\"is\",\"everything\",\"else\",\"we\",\"do\"], maxWidth = 20\n",
    "\n",
    "Output:\n",
    "[\n",
    "  \"Science  is  what we\",\n",
    "  \"understand      well\",\n",
    "  \"enough to explain to\",\n",
    "  \"a  computer.  Art is\",\n",
    "  \"everything  else  we\",\n",
    "  \"do                  \"\n",
    "]\n",
    "\n",
    "Input: words = [\"This\", \"is\", \"an\", \"example\", \"of\", \"text\", \"justification.\"], maxWidth = 16\n",
    "\n",
    "Output:\n",
    "[\n",
    "   \"This    is    an\",\n",
    "   \"example  of text\",\n",
    "   \"justification.  \"\n",
    "]\n",
    "```"
   ]
  },
  {
   "cell_type": "markdown",
   "metadata": {},
   "source": [
    "\n",
    "# Thiết kế thuật toán\n",
    "**1. Ý TƯỞNG:**"
   ]
  },
  {
   "cell_type": "code",
   "execution_count": 8,
   "metadata": {},
   "outputs": [
    {
     "name": "stdout",
     "output_type": "stream",
     "text": [
      "['Lorem', 'ipsum', 'dolor', 'sit', 'amet', 'consetetur', 'sadipscing', 'elitr', 'sed', 'diam', 'nonumy', 'eirmod', 'tempor', 'invidunt', 'ut', 'labore', 'et', 'dolore', 'magna', 'aliquyam', 'erat', 'sed', 'diam', 'voluptua', 'At', 'vero', 'eos', 'et', 'accusam', 'et', 'justo', 'duo', 'dolores', 'et', 'ea', 'rebum', 'Stet', 'clita', 'kasd', 'gubergren', 'no', 'sea', 'takimata', 'sanctus', 'est', 'Lorem', 'ipsum', 'dolor', 'sit', 'amet', 'Lorem', 'ipsum', 'dolor', 'sit', 'amet', 'consetetur', 'sadipscing', 'elitr', 'sed', 'diam', 'nonumy', 'eirmod', 'tempor', 'invidunt', 'ut', 'labore', 'et', 'dolore', 'magna', 'aliquyam', 'erat', 'sed', 'diam', 'voluptua', 'At', 'vero', 'eos', 'et', 'accusam', 'et', 'justo', 'duo', 'dolores', 'et', 'ea', 'rebum', 'Stet', 'clita', 'kasd', 'gubergren', 'no', 'sea', 'takimata', 'sanctus', 'est', 'Lorem', 'ipsum', 'dolor', 'sit', 'amet']\n"
     ]
    }
   ],
   "source": [
    "import re\n",
    "\n",
    "input_ = \"\"\"\n",
    "Lorem ipsum dolor sit amet, consetetur sadipscing elitr, sed diam nonumy\n",
    "eirmod tempor invidunt ut labore et dolore magna aliquyam erat, sed diam\n",
    "voluptua. At vero eos et accusam et justo duo dolores et ea rebum. Stet\n",
    "clita kasd gubergren, no sea takimata sanctus est Lorem ipsum dolor sit\n",
    "amet. Lorem ipsum dolor sit amet, consetetur sadipscing elitr, sed diam\n",
    "nonumy eirmod tempor invidunt ut labore et dolore magna aliquyam erat, sed\n",
    "diam voluptua. At vero eos et accusam et justo duo dolores et ea rebum. Stet\n",
    "clita kasd gubergren, no sea takimata sanctus est Lorem ipsum dolor sit amet.\n",
    "\"\"\"\n",
    "\n",
    "words = re.findall(r\"\\w+\",input_)\n",
    "print(words)"
   ]
  },
  {
   "cell_type": "markdown",
   "metadata": {},
   "source": [
    "Trong quá khứ, microsoft đã tiếp cận vấn đề bằng phương pháp tham lam nhưng phương pháp này được nhận định là không hiệu quả.\n",
    "\n",
    "Với hướng tiếp cận tham lam, việc căn chỉnh văn phải được định nghĩa là phải chứa tất cả các từ vào một dòng cho đến khi đạt đến giới hạn b. Tuy nhiên, với hướng tiếp cận tham lam như thế thì sẽ dễ dàng sảy ra trường hợp như sau:\n",
    "\n",
    "Giả sử như ta có một dãy kí tự A = [\"blah\", \"blah\", \"blah\", \"blah\", \"somethinglongs\"] với b = 14.\n",
    "Khi căn chỉnh với ý tưởng của phương pháp tham lam thì ta có:\n",
    "\n",
    "```\n",
    "blah blah blah\n",
    "blah\n",
    "somethinglongs\n",
    "```\n",
    "\n",
    "nhưng thứ chúng ta muốn đạt được là:\n",
    "\n",
    "```\n",
    "blah      blah\n",
    "blah      blah\n",
    "somethinglongs\n",
    "```"
   ]
  },
  {
   "cell_type": "code",
   "execution_count": 31,
   "metadata": {},
   "outputs": [
    {
     "name": "stdout",
     "output_type": "stream",
     "text": [
      "Lorem ipsum dolor sit amet consetetur sadipscing elitr sed diam nonumy eirmod\n",
      "tempor invidunt ut labore et dolore magna aliquyam erat sed diam voluptua At vero\n",
      "eos et accusam et justo duo dolores et ea rebum Stet clita kasd gubergren no sea\n",
      "takimata sanctus est Lorem ipsum dolor sit amet Lorem ipsum dolor sit amet\n",
      "consetetur sadipscing elitr sed diam nonumy eirmod tempor invidunt ut labore et\n",
      "dolore magna aliquyam erat sed diam voluptua At vero eos et accusam et justo duo\n",
      "dolores et ea rebum Stet clita kasd gubergren no sea takimata sanctus est Lorem\n",
      "ipsum dolor sit amet"
     ]
    }
   ],
   "source": [
    "#Tiếp cận tham lam\n",
    "space = textwidth - len(words[0])\n",
    "print(words[0], end='')\n",
    "for x in range(1, len(words)):\n",
    "    l = len(words[x])\n",
    "    if l <= space:\n",
    "        space -= l+1\n",
    "        print(\" \" + words[x], end='')\n",
    "    else:\n",
    "        print(\"\\n\" + words[x], end='')\n",
    "        space = textwidth - l"
   ]
  },
  {
   "cell_type": "markdown",
   "metadata": {},
   "source": [
    "**2. THUẬT TOÁN:**\n",
    "\n",
    "Nhận thấy được sự hạn chế này, LaTex đã tiếng cận vấn đề này theo một hướng huy hoạch động.\n",
    "\n",
    "Quy hoạch động về nội tại là một phương pháp thiết kế giải thuật với mục tiêu chính là hi sinh sự độ phức tạp về không gian nhưng đổi lại có thể cải thiện độ phức tạp về thời gian(tuy nhiên, số mức độ hi sinh của không gian không đáng kể so với thời gian, nên quy hoạch động là một phương pháp cho ra một hướng giải quyết một bài toán theo hướng chung(general) đáng để sử dụng nếu được cài đặt một cách khôn ngoan). Chúng ta có thể lưu trử giá trị mỗi lần tính toán và gọi lại thay vì phải tái tính toán cho bước tính toán đó lần nữa.\n",
    "\n",
    "Trong LaTex, một hướng tiếp cận được đặt ra là tìm ra một công thức để biểu diễn độ thẩm mỹ hoặc ngược lại là độ mất thẩm mỹ của một dòng được tạo ra bằng cách lấy ra các từ trong danh sách A.\n",
    "\n",
    "Badness(lineLen, max) -> { (max - lineLen)^3 && if max - lineLen < 0 then `infinite`\n",
    "\n",
    "Vấn đề về text justification CÓ THỂ THAM KHẢO Ở: [here](https://www.youtube.com/watch?v=ENyox7kNKeY&t=1260s)"
   ]
  },
  {
   "cell_type": "code",
   "execution_count": 2,
   "metadata": {},
   "outputs": [],
   "source": [
    "def badness(line,textwidth):\n",
    "\n",
    "    # Number of gaps\n",
    "    length_line = len(line) - 1\n",
    "\n",
    "    for word in line:\n",
    "        length_line += len(word)\n",
    "\n",
    "    if length_line > textwidth: return float('inf')\n",
    "\n",
    "    return ( textwidth - length_line )**3"
   ]
  },
  {
   "cell_type": "code",
   "execution_count": 3,
   "metadata": {},
   "outputs": [],
   "source": [
    "import numpy as np\n",
    "\n",
    "textwidth = 80\n",
    "\n",
    "DP = [0]*(len(words)+1)\n",
    "\n",
    "for i in range(len(words)-1,-1,-1):\n",
    "    DP[i] = np.min([DP[j] + badness(words[i:j],textwidth) for j in range(i+1,len(words)+1)])"
   ]
  },
  {
   "cell_type": "code",
   "execution_count": 4,
   "metadata": {},
   "outputs": [],
   "source": [
    "DP = [0]*(len(words)+1)\n",
    "breaks = [0]*(len(words)+1)\n",
    "\n",
    "for i in range(len(words)-1,-1,-1):\n",
    "    temp = [DP[j] + badness(words[i:j], textwidth) for j in range(i+1,len(words)+1)]\n",
    "\n",
    "    index = np.argmin(temp)\n",
    "\n",
    "    # Index plus position in upper list\n",
    "    breaks[i] = index + i + 1\n",
    "    DP[i] = temp[index]"
   ]
  },
  {
   "cell_type": "code",
   "execution_count": 14,
   "metadata": {},
   "outputs": [],
   "source": [
    "def reconstruct_text(words,breaks):                                                                                                                \n",
    "\n",
    "    lines = []\n",
    "    linebreaks = []\n",
    "\n",
    "    i = 0 \n",
    "    while True:\n",
    "\n",
    "        linebreaks.append(breaks[i])\n",
    "        i = breaks[i]\n",
    "\n",
    "        if i == len(words):\n",
    "            linebreaks.append(0)\n",
    "            break\n",
    "\n",
    "    for i in range( len(linebreaks) ):\n",
    "        if len(words[ linebreaks[i-1] : linebreaks[i] ]) == 0:\n",
    "            continue\n",
    "        lines.append( ' '.join( words[ linebreaks[i-1] : linebreaks[i] ] ).strip() )\n",
    "\n",
    "    return lines"
   ]
  },
  {
   "cell_type": "code",
   "execution_count": 20,
   "metadata": {},
   "outputs": [],
   "source": [
    "def spacing(text,textwidth,maxspace=4):\n",
    "\n",
    "    for i in range(len(text)):\n",
    "\n",
    "        length_line = len(text[i])\n",
    "\n",
    "        if length_line < textwidth:\n",
    "\n",
    "            status_length = length_line\n",
    "            whitespaces_remain = textwidth - status_length\n",
    "            Nwhitespaces = text[i].count(' ')\n",
    "\n",
    "            # If whitespaces (to add) per whitespace exeeds\n",
    "            # maxspace, don't do anything.\n",
    "            if int(whitespaces_remain/Nwhitespaces) > maxspace - 1:\n",
    "                pass\n",
    "            else:\n",
    "                text[i] = text[i].replace(' ',' '*( 1 + int(whitespaces_remain/Nwhitespaces)) )\n",
    "                status_length = len(text[i])\n",
    "\n",
    "                # Periods have highest priority for whitespace insertion\n",
    "                periods = text[i].split('.')\n",
    "\n",
    "                # Can we add a whitespace behind each period?\n",
    "                if len(periods) - 1 + status_length <= textwidth:\n",
    "                    text[i] = '. '.join(periods).strip()\n",
    "\n",
    "                status_length = len(text[i])\n",
    "                whitespaces_remain = textwidth - status_length\n",
    "                Nwords = len(text[i].split())\n",
    "                Ngaps = Nwords - 1\n",
    "\n",
    "                if whitespaces_remain != 0:factor = Ngaps / whitespaces_remain\n",
    "\n",
    "                # List of whitespaces in line i\n",
    "                gaps = re.findall('\\s+', text[i])\n",
    "\n",
    "                temp = text[i].split()\n",
    "                for k in range(Ngaps):\n",
    "                    temp[k] = ''.join([temp[k],gaps[k]])\n",
    "\n",
    "                for j in range(whitespaces_remain):\n",
    "                    if status_length >= textwidth:pass\n",
    "                    else:\n",
    "                        replace = temp[int(factor*j)]\n",
    "                        replace = ''.join([replace, \" \"])\n",
    "                        temp[int(factor*j)] = replace\n",
    "                text[i] = ''.join(temp)\n",
    "\n",
    "    return text"
   ]
  },
  {
   "cell_type": "code",
   "execution_count": 21,
   "metadata": {},
   "outputs": [
    {
     "name": "stdout",
     "output_type": "stream",
     "text": [
      "Lorem ipsum dolor sit amet consetetur sadipscing elitr sed diam nonumy\n",
      "eirmod tempor invidunt ut labore et dolore magna aliquyam erat sed diam\n",
      "voluptua At vero eos et accusam et justo duo dolores et ea rebum Stet\n",
      "clita kasd gubergren no sea takimata sanctus est Lorem ipsum dolor sit\n",
      "amet Lorem ipsum dolor sit amet consetetur sadipscing elitr sed diam nonumy\n",
      "eirmod tempor invidunt ut labore et dolore magna aliquyam erat sed diam\n",
      "voluptua At vero eos et accusam et justo duo dolores et ea rebum Stet\n",
      "clita kasd gubergren no sea takimata sanctus est Lorem ipsum dolor sit amet\n"
     ]
    }
   ],
   "source": [
    "text = reconstruct_text(words,breaks)\n",
    "for line in text:\n",
    "    print(line)"
   ]
  },
  {
   "cell_type": "code",
   "execution_count": 23,
   "metadata": {},
   "outputs": [
    {
     "name": "stdout",
     "output_type": "stream",
     "text": [
      "Lorem  ipsum  dolor  sit  amet  consetetur  sadipscing  elitr  sed  diam  nonumy\n",
      "eirmod  tempor  invidunt  ut  labore  et dolore  magna  aliquyam  erat  sed diam\n",
      "voluptua  At  vero  eos  et  accusam  et justo  duo  dolores  et  ea  rebum Stet\n",
      "clita  kasd  gubergren  no  sea  takimata  sanctus  est  Lorem  ipsum  dolor sit\n",
      "amet  Lorem ipsum  dolor sit  amet consetetur  sadipscing elitr  sed diam nonumy\n",
      "eirmod  tempor  invidunt  ut  labore  et dolore  magna  aliquyam  erat  sed diam\n",
      "voluptua  At  vero  eos  et  accusam  et justo  duo  dolores  et  ea  rebum Stet\n",
      "clita  kasd gubergren  no sea  takimata sanctus est  Lorem ipsum  dolor sit amet\n"
     ]
    }
   ],
   "source": [
    "text = spacing(text,textwidth)\n",
    "for line in text:\n",
    "    print(line)"
   ]
  },
  {
   "cell_type": "code",
   "execution_count": null,
   "metadata": {},
   "outputs": [],
   "source": []
  }
 ],
 "metadata": {
  "kernelspec": {
   "display_name": "Python 3",
   "language": "python",
   "name": "python3"
  },
  "language_info": {
   "codemirror_mode": {
    "name": "ipython",
    "version": 3
   },
   "file_extension": ".py",
   "mimetype": "text/x-python",
   "name": "python",
   "nbconvert_exporter": "python",
   "pygments_lexer": "ipython3",
   "version": "3.7.6"
  }
 },
 "nbformat": 4,
 "nbformat_minor": 4
}
