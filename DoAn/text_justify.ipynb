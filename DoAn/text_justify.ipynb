{
 "cells": [
  {
   "cell_type": "code",
   "execution_count": 8,
   "metadata": {},
   "outputs": [
    {
     "name": "stdout",
     "output_type": "stream",
     "text": [
      "['Lorem', 'ipsum', 'dolor', 'sit', 'amet', 'consetetur', 'sadipscing', 'elitr', 'sed', 'diam', 'nonumy', 'eirmod', 'tempor', 'invidunt', 'ut', 'labore', 'et', 'dolore', 'magna', 'aliquyam', 'erat', 'sed', 'diam', 'voluptua', 'At', 'vero', 'eos', 'et', 'accusam', 'et', 'justo', 'duo', 'dolores', 'et', 'ea', 'rebum', 'Stet', 'clita', 'kasd', 'gubergren', 'no', 'sea', 'takimata', 'sanctus', 'est', 'Lorem', 'ipsum', 'dolor', 'sit', 'amet', 'Lorem', 'ipsum', 'dolor', 'sit', 'amet', 'consetetur', 'sadipscing', 'elitr', 'sed', 'diam', 'nonumy', 'eirmod', 'tempor', 'invidunt', 'ut', 'labore', 'et', 'dolore', 'magna', 'aliquyam', 'erat', 'sed', 'diam', 'voluptua', 'At', 'vero', 'eos', 'et', 'accusam', 'et', 'justo', 'duo', 'dolores', 'et', 'ea', 'rebum', 'Stet', 'clita', 'kasd', 'gubergren', 'no', 'sea', 'takimata', 'sanctus', 'est', 'Lorem', 'ipsum', 'dolor', 'sit', 'amet']\n"
     ]
    }
   ],
   "source": [
    "import re\n",
    "\n",
    "input_ = \"\"\"\n",
    "Lorem ipsum dolor sit amet, consetetur sadipscing elitr, sed diam nonumy\n",
    "eirmod tempor invidunt ut labore et dolore magna aliquyam erat, sed diam\n",
    "voluptua. At vero eos et accusam et justo duo dolores et ea rebum. Stet\n",
    "clita kasd gubergren, no sea takimata sanctus est Lorem ipsum dolor sit\n",
    "amet. Lorem ipsum dolor sit amet, consetetur sadipscing elitr, sed diam\n",
    "nonumy eirmod tempor invidunt ut labore et dolore magna aliquyam erat, sed\n",
    "diam voluptua. At vero eos et accusam et justo duo dolores et ea rebum. Stet\n",
    "clita kasd gubergren, no sea takimata sanctus est Lorem ipsum dolor sit amet.\n",
    "\"\"\"\n",
    "\n",
    "words = re.findall(r\"\\w+\",input_)\n",
    "print(words)"
   ]
  },
  {
   "cell_type": "code",
   "execution_count": 2,
   "metadata": {},
   "outputs": [],
   "source": [
    "def badness(line,textwidth):\n",
    "\n",
    "    # Number of gaps\n",
    "    length_line = len(line) - 1\n",
    "\n",
    "    for word in line:\n",
    "        length_line += len(word)\n",
    "\n",
    "    if length_line > textwidth: return float('inf')\n",
    "\n",
    "    return ( textwidth - length_line )**3"
   ]
  },
  {
   "cell_type": "code",
   "execution_count": 3,
   "metadata": {},
   "outputs": [],
   "source": [
    "import numpy as np\n",
    "\n",
    "textwidth = 80\n",
    "\n",
    "DP = [0]*(len(words)+1)\n",
    "\n",
    "for i in range(len(words)-1,-1,-1):\n",
    "    DP[i] = np.min([DP[j] + badness(words[i:j],textwidth) for j in range(i+1,len(words)+1)])"
   ]
  },
  {
   "cell_type": "code",
   "execution_count": 4,
   "metadata": {},
   "outputs": [],
   "source": [
    "DP = [0]*(len(words)+1)\n",
    "breaks = [0]*(len(words)+1)\n",
    "\n",
    "for i in range(len(words)-1,-1,-1):\n",
    "    temp = [DP[j] + badness(words[i:j], textwidth) for j in range(i+1,len(words)+1)]\n",
    "\n",
    "    index = np.argmin(temp)\n",
    "\n",
    "    # Index plus position in upper list\n",
    "    breaks[i] = index + i + 1\n",
    "    DP[i] = temp[index]"
   ]
  },
  {
   "cell_type": "code",
   "execution_count": 14,
   "metadata": {},
   "outputs": [],
   "source": [
    "def reconstruct_text(words,breaks):                                                                                                                \n",
    "\n",
    "    lines = []\n",
    "    linebreaks = []\n",
    "\n",
    "    i = 0 \n",
    "    while True:\n",
    "\n",
    "        linebreaks.append(breaks[i])\n",
    "        i = breaks[i]\n",
    "\n",
    "        if i == len(words):\n",
    "            linebreaks.append(0)\n",
    "            break\n",
    "\n",
    "    for i in range( len(linebreaks) ):\n",
    "        if len(words[ linebreaks[i-1] : linebreaks[i] ]) == 0:\n",
    "            continue\n",
    "        lines.append( ' '.join( words[ linebreaks[i-1] : linebreaks[i] ] ).strip() )\n",
    "\n",
    "    return lines"
   ]
  },
  {
   "cell_type": "code",
   "execution_count": 20,
   "metadata": {},
   "outputs": [],
   "source": [
    "def spacing(text,textwidth,maxspace=4):\n",
    "\n",
    "    for i in range(len(text)):\n",
    "\n",
    "        length_line = len(text[i])\n",
    "\n",
    "        if length_line < textwidth:\n",
    "\n",
    "            status_length = length_line\n",
    "            whitespaces_remain = textwidth - status_length\n",
    "            Nwhitespaces = text[i].count(' ')\n",
    "\n",
    "            # If whitespaces (to add) per whitespace exeeds\n",
    "            # maxspace, don't do anything.\n",
    "            if int(whitespaces_remain/Nwhitespaces) > maxspace - 1:\n",
    "                pass\n",
    "            else:\n",
    "                text[i] = text[i].replace(' ',' '*( 1 + int(whitespaces_remain/Nwhitespaces)) )\n",
    "                status_length = len(text[i])\n",
    "\n",
    "                # Periods have highest priority for whitespace insertion\n",
    "                periods = text[i].split('.')\n",
    "\n",
    "                # Can we add a whitespace behind each period?\n",
    "                if len(periods) - 1 + status_length <= textwidth:\n",
    "                    text[i] = '. '.join(periods).strip()\n",
    "\n",
    "                status_length = len(text[i])\n",
    "                whitespaces_remain = textwidth - status_length\n",
    "                Nwords = len(text[i].split())\n",
    "                Ngaps = Nwords - 1\n",
    "\n",
    "                if whitespaces_remain != 0:factor = Ngaps / whitespaces_remain\n",
    "\n",
    "                # List of whitespaces in line i\n",
    "                gaps = re.findall('\\s+', text[i])\n",
    "\n",
    "                temp = text[i].split()\n",
    "                for k in range(Ngaps):\n",
    "                    temp[k] = ''.join([temp[k],gaps[k]])\n",
    "\n",
    "                for j in range(whitespaces_remain):\n",
    "                    if status_length >= textwidth:pass\n",
    "                    else:\n",
    "                        replace = temp[int(factor*j)]\n",
    "                        replace = ''.join([replace, \" \"])\n",
    "                        temp[int(factor*j)] = replace\n",
    "                text[i] = ''.join(temp)\n",
    "\n",
    "    return text"
   ]
  },
  {
   "cell_type": "code",
   "execution_count": 21,
   "metadata": {},
   "outputs": [
    {
     "name": "stdout",
     "output_type": "stream",
     "text": [
      "Lorem ipsum dolor sit amet consetetur sadipscing elitr sed diam nonumy\n",
      "eirmod tempor invidunt ut labore et dolore magna aliquyam erat sed diam\n",
      "voluptua At vero eos et accusam et justo duo dolores et ea rebum Stet\n",
      "clita kasd gubergren no sea takimata sanctus est Lorem ipsum dolor sit\n",
      "amet Lorem ipsum dolor sit amet consetetur sadipscing elitr sed diam nonumy\n",
      "eirmod tempor invidunt ut labore et dolore magna aliquyam erat sed diam\n",
      "voluptua At vero eos et accusam et justo duo dolores et ea rebum Stet\n",
      "clita kasd gubergren no sea takimata sanctus est Lorem ipsum dolor sit amet\n"
     ]
    }
   ],
   "source": [
    "text = reconstruct_text(words,breaks)\n",
    "for line in text:\n",
    "    print(line)"
   ]
  },
  {
   "cell_type": "code",
   "execution_count": 23,
   "metadata": {},
   "outputs": [
    {
     "name": "stdout",
     "output_type": "stream",
     "text": [
      "Lorem  ipsum  dolor  sit  amet  consetetur  sadipscing  elitr  sed  diam  nonumy\n",
      "eirmod  tempor  invidunt  ut  labore  et dolore  magna  aliquyam  erat  sed diam\n",
      "voluptua  At  vero  eos  et  accusam  et justo  duo  dolores  et  ea  rebum Stet\n",
      "clita  kasd  gubergren  no  sea  takimata  sanctus  est  Lorem  ipsum  dolor sit\n",
      "amet  Lorem ipsum  dolor sit  amet consetetur  sadipscing elitr  sed diam nonumy\n",
      "eirmod  tempor  invidunt  ut  labore  et dolore  magna  aliquyam  erat  sed diam\n",
      "voluptua  At  vero  eos  et  accusam  et justo  duo  dolores  et  ea  rebum Stet\n",
      "clita  kasd gubergren  no sea  takimata sanctus est  Lorem ipsum  dolor sit amet\n"
     ]
    }
   ],
   "source": [
    "text = spacing(text,textwidth)\n",
    "for line in text:\n",
    "    print(line)"
   ]
  },
  {
   "cell_type": "code",
   "execution_count": 31,
   "metadata": {},
   "outputs": [
    {
     "name": "stdout",
     "output_type": "stream",
     "text": [
      "Lorem ipsum dolor sit amet consetetur sadipscing elitr sed diam nonumy eirmod\n",
      "tempor invidunt ut labore et dolore magna aliquyam erat sed diam voluptua At vero\n",
      "eos et accusam et justo duo dolores et ea rebum Stet clita kasd gubergren no sea\n",
      "takimata sanctus est Lorem ipsum dolor sit amet Lorem ipsum dolor sit amet\n",
      "consetetur sadipscing elitr sed diam nonumy eirmod tempor invidunt ut labore et\n",
      "dolore magna aliquyam erat sed diam voluptua At vero eos et accusam et justo duo\n",
      "dolores et ea rebum Stet clita kasd gubergren no sea takimata sanctus est Lorem\n",
      "ipsum dolor sit amet"
     ]
    }
   ],
   "source": [
    "space = textwidth - len(words[0])\n",
    "print(words[0], end='')\n",
    "for x in range(1, len(words)):\n",
    "    l = len(words[x])\n",
    "    if l <= space:\n",
    "        space -= l+1\n",
    "        print(\" \" + words[x], end='')\n",
    "    else:\n",
    "        print(\"\\n\" + words[x], end='')\n",
    "        space = textwidth - l"
   ]
  },
  {
   "cell_type": "code",
   "execution_count": null,
   "metadata": {},
   "outputs": [],
   "source": []
  }
 ],
 "metadata": {
  "kernelspec": {
   "display_name": "Python 3",
   "language": "python",
   "name": "python3"
  },
  "language_info": {
   "codemirror_mode": {
    "name": "ipython",
    "version": 3
   },
   "file_extension": ".py",
   "mimetype": "text/x-python",
   "name": "python",
   "nbconvert_exporter": "python",
   "pygments_lexer": "ipython3",
   "version": "3.8.3"
  }
 },
 "nbformat": 4,
 "nbformat_minor": 4
}
