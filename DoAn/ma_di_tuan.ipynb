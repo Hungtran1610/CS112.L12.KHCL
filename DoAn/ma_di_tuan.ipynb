{
 "cells": [
  {
   "cell_type": "markdown",
   "metadata": {},
   "source": [
    "# MORIATY VÀ QUÂN MÃ (1ms, 100mb)\n",
    "\n",
    "___________\n",
    "\n",
    "<div class=\"problem_description\" id=\"problem_description\">\n",
    "<p>Quân mã là một quân cờ đặt biệt trên bàn cờ với nước đi hình chữ L nó có thể xoay chuyển thế trận một cách đầy bất ngờ.</p>\n",
    "<p>Trong một lần đánh cờ với chính bản thân, James Moriaty tự hỏi mất bao nhiêu bước để một quân Mã có thể đi hết bàn cờ như một phép ẩn dụ về bản thân cần bao nhiêu mưu đồ để nắm trọn Luân Đôn trong bàn tay.</p>\n",
    "<p>Các hành động được phát sinh lần lượt theo thứ tự: <code>&nbsp;{-1,2}, {1,2}, {2,1}, {2,-1}, {1,-2}, {-1,-2}, {-2, -1}, {-2, 1}</code>.</p>\n",
    "\n",
    "<p>Hãy giúp James tạo ra một chương trình nhập liệu giúp tính toán số lượng bước đi cần thiết để thôn tính bàn cờ.</p>\n",
    "\n",
    "<h2>INPUT</h2>\n",
    "\n",
    "<p>Hàng đầu tiên chứa 02 số nguyên dương m, n là kích thước bàn cờ <code>(0 <= m, n <= 1x10^6)</code></p>\n",
    "\n",
    "<p>Hàng tiếp theo chứa một chuỗi ghi tọa độ ô đầu tiên mã đang đứng <code>(0 <= x < m) && (0 <= y < n)</code>.</p>\n",
    "\n",
    "<h2>OUTPUT</h2>\n",
    "\n",
    "<p>Số lượng các bước mà quân Mã cần phải di chuyển.</p>\n",
    "\n",
    "<h2>VÍ DỤ</h2>\n",
    "\n",
    "<table border=\"1\" cellpadding=\"1\" cellspacing=\"1\" style=\"width:100%\">\n",
    "\t<tbody>\n",
    "\t\t<tr>\n",
    "\t\t\t<td style=\"text-align:center; vertical-align:top; width:50%\"><strong>Input</strong></td>\n",
    "\t\t\t<td style=\"text-align:center; vertical-align:top; width:50%\"><strong>Output</strong></td>\n",
    "\t\t</tr>\n",
    "\t\t<tr>\n",
    "\t\t\t<td style=\"vertical-align:top; width:50%\"><tt>12 12<br>2 3\n",
    "\t\t\t</tt></td>\n",
    "\t\t\t<td style=\"vertical-align:top; width:50%\"><tt>143</tt></td>\n",
    "\t\t</tr>\n",
    "\t\t<tr>\n",
    "\t\t\t<td style=\"vertical-align:top; width:50%\"><tt>1 3<br>1 1\n",
    "            </tt></td>\n",
    "\t\t\t<td style=\"vertical-align:top; width:50%\"><tt>0</tt></td>\n",
    "\t\t</tr>\n",
    "\t</tbody>\n",
    "</table>\n"
   ]
  },
  {
   "cell_type": "markdown",
   "metadata": {},
   "source": [
    "# CƠ SỞ LÝ THUYẾT:\n",
    "\n",
    "## định lý Schwenk:\n",
    "https://vi.wikipedia.org/wiki/B%C3%A0i_to%C3%A1n_m%C3%A3_%C4%91i_tu%E1%BA%A7n\n",
    "\n",
    "## Mục tiêu của bài toán:\n",
    "Xác định có tồn tại hành trình đóng trên bàn cờ hay là không."
   ]
  },
  {
   "cell_type": "markdown",
   "metadata": {},
   "source": [
    "# Lý do nhóm chọn bài tập như thế này:\n",
    "1. Mã đi tuần là một bài toán quen thuộc nên khi nhìn vào người làm bài sẽ không thấy nản\n",
    "2. Có thể giải mã đi tuần bằng phương pháp BFS, chia để trị tức là bài toán này có thể giải với nhiều phương pháp.\n",
    "3. Khi đã ra được phương pháp rồi thì người làm bài sẽ thấy dễ thở hơn nếu phải nghĩ đến giải pháp tối ưu hoá"
   ]
  },
  {
   "cell_type": "code",
   "execution_count": 3,
   "metadata": {},
   "outputs": [
    {
     "name": "stdout",
     "output_type": "stream",
     "text": [
      "1 8\n",
      "2 2\n",
      "0\n"
     ]
    }
   ],
   "source": [
    "m, n = [int(i) for i in input().split()]\n",
    "curr_x, curr_y = [int(i) for i in input().split()]\n",
    "\n",
    "def knight(m, n, curr_x, curr_y):\n",
    "    if m%2 != 0 and n%2 != 0:\n",
    "        print(0)\n",
    "        return\n",
    "    if m == 1 or m == 2 or m == 4:\n",
    "        print(0)\n",
    "        return\n",
    "    if m == 3:\n",
    "        if n == 4 or n == 6 or n == 8:\n",
    "            print(0)\n",
    "            return\n",
    "    if curr_x > m or curr_x < 0:\n",
    "        print(0)\n",
    "        return\n",
    "    if curr_y > n or curr_y < 0:\n",
    "        print(0)\n",
    "        return\n",
    "    \n",
    "    print(m*n - 1)\n",
    "    return\n",
    "\n",
    "knight(m, n, curr_x, curr_y)"
   ]
  },
  {
   "cell_type": "markdown",
   "metadata": {},
   "source": [
    "# Thiết kế tập thử nghiệm\n",
    "| stt | lý do |\n",
    "| --- | --- |\n",
    "|  0  | trường hợp hiển nhiên nhằm xác định tính đúng của chương trình|\n",
    "|  1  | xác định thoả điều kiện 1 của định lý schwerk |\n",
    "|  2  | xác định thoả điều kiện 2 của định lý schwerk |\n",
    "|  3  | xác định thoả điều kiện 3 của định lý schwerk |\n",
    "|  4  | kiểm tra thời gian thực thi |\n",
    "|  5  | kiểm tra thời gian thực thi |"
   ]
  },
  {
   "cell_type": "code",
   "execution_count": null,
   "metadata": {},
   "outputs": [],
   "source": []
  }
 ],
 "metadata": {
  "kernelspec": {
   "display_name": "Python 3",
   "language": "python",
   "name": "python3"
  },
  "language_info": {
   "codemirror_mode": {
    "name": "ipython",
    "version": 3
   },
   "file_extension": ".py",
   "mimetype": "text/x-python",
   "name": "python",
   "nbconvert_exporter": "python",
   "pygments_lexer": "ipython3",
   "version": "3.8.3"
  }
 },
 "nbformat": 4,
 "nbformat_minor": 4
}
