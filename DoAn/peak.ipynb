{
 "cells": [
  {
   "cell_type": "markdown",
   "metadata": {},
   "source": [
    "# Đề bài\n",
    "Cho một mảng các số nguyên. Tìm một phần tử đỉnh trong đó. Một phần tử mảng là đỉnh nếu nó KHÔNG nhỏ hơn các phần tử lân cận của nó.\n",
    "\n",
    "# Input\n",
    "Một mảng các số nguyên $array$ = {$a_0, a_1,...a_n$}\n",
    "\n",
    "# Output\n",
    "\n",
    "Đỉnh chóp của mảng số nguyên\n",
    "\n",
    "VÍ DỤ\n",
    "\n",
    "| Input                     | Output        | \n",
    "| --------------------------|:-------------:|\n",
    "| 5, 10, 20, 15             | 20            |\n",
    "| 10, 20, 15, 2, 23, 90, 67 | 20 or 90      |     \n",
    "     \n",
    "\n",
    "\n",
    "# Thiết kế thuật toán\n",
    "**1. Ý TƯỞNG:**\n",
    "\n",
    "Các trường hợp sau cần chú ý khi giải bài toán\n",
    "-\tNếu mảng đầu vào được sắp xếp theo thứ tự tăng dần, phần tử cuối cùng luôn là phần tử đỉnh. Ví dụ: 50 là phần tử đỉnh trong {10, 20, 30, 40, 50}.\n",
    "- Nếu mảng đầu vào được sắp xếp theo thứ tự giảm dần, phần tử đầu tiên luôn là phần tử đỉnh. 100 là phần tử đỉnh trong {100, 80, 60, 50, 20}.\n",
    "- Nếu tất cả các phần tử của mảng đầu vào giống nhau thì mọi phần tử đều là phần tử đỉnh.\n",
    "Ở đây ta thấy rằng, sẽ luôn tồn tại ít nhất một phần tử đỉnh từ mảng cho trước.\n",
    "\n",
    "\n",
    "**2. THUẬT TOÁN:**\n",
    "\n",
    "Vét cạn (Brute Force)\n",
    "- Nếu trong mảng, phần tử đầu tiên lớn hơn phần tử thứ hai hoặc phần tử cuối cùng lớn hơn phần tử cuối cùng thứ hai, in phần tử tương ứng và kết thúc chương trình.\n",
    "- Nếu không duyệt mảng từ phần tử thứ hai đến phần tử kế cuối.\n",
    "- Trong mảng  , phần tử đỉnh sẽ lớn hơn cả hai phần tử láng giềng của nó, tức là   và  , in phần tử đó và kết thúc.\n",
    "\n",
    "Độ phức tạp về thời gian: O(N) vì sử dụng 1 vòng lặp  \n",
    "\n",
    "Độ phức tạp không gian: O(1) vì không sử dụng thêm vùng nhớ.\n",
    "\n",
    "\n",
    "# Cài đặt\n"
   ]
  },
  {
   "cell_type": "code",
   "execution_count": null,
   "metadata": {},
   "outputs": [],
   "source": [
    "int findPeak(int arr[], int n) \n",
    "{ \n",
    "    // first or last element is peak element \n",
    "    if (n == 1)  \n",
    "      return arr[0]; \n",
    "    if (arr[0] >= arr[1]) \n",
    "        return 0; \n",
    "    if (arr[n - 1] >= arr[n - 2]) \n",
    "        return n - 1; \n",
    "  \n",
    "    // check for every other element \n",
    "    for (int i = 1; i < n - 1; i++) { \n",
    "  \n",
    "        // check if the neighbors are smaller \n",
    "        if (arr[i] >= arr[i - 1] && arr[i] >= arr[i + 1]) \n",
    "            return i; \n",
    "    } \n",
    "} "
   ]
  }
 ],
 "metadata": {
  "kernelspec": {
   "display_name": "Python 3",
   "language": "python",
   "name": "python3"
  },
  "language_info": {
   "codemirror_mode": {
    "name": "ipython",
    "version": 3
   },
   "file_extension": ".py",
   "mimetype": "text/x-python",
   "name": "python",
   "nbconvert_exporter": "python",
   "pygments_lexer": "ipython3",
   "version": "3.7.6"
  }
 },
 "nbformat": 4,
 "nbformat_minor": 4
}
