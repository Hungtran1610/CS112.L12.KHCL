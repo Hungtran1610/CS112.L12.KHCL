{
 "cells": [
  {
   "cell_type": "markdown",
   "metadata": {},
   "source": [
    "## **Đề bài**\n",
    "// add\n",
    "# Tóm tắt\n",
    "Tìm phần tử chung giữa 2 mảng con.\n",
    "\n",
    "# Nhận dạng\n",
    "Nếu ta xem 2 gene kế nhau là một cặp, vậy ta đơn giản chỉ cần tìm cặp gene chung giữa 2 gene cho trước.\n",
    "\n",
    "# Thiết kế thuật toán\n",
    "**1. Ý TƯỞNG:**\n",
    "- Với từng cặp gene trong gene 2, ta tăng giá trị ứng với cặp đó trong $dictA$ lên 1.\n",
    "- Với từng cặp gene trong gene 1, nếu cặp đó có trong $dictA$, ta tăng biến $res$ lên 1.\n",
    "- In kết quả là biến $res$.\n",
    "\n",
    "**2. THUẬT TOÁN:**\n",
    "\n",
    "**_Pseudo code:_**\n",
    "// add\n",
    "\n",
    "# Cài đặt"
   ]
  },
  {
   "cell_type": "code",
   "execution_count": 1,
   "metadata": {},
   "outputs": [
    {
     "name": "stdout",
     "output_type": "stream",
     "text": [
      "ABBACAB\n",
      "BCABB\n",
      "4\n"
     ]
    }
   ],
   "source": [
    "gen1 = input().strip()\n",
    "gen2 = input().strip()\n",
    "\n",
    "dictA = {}\n",
    "for i in range(0, len(gen2)-1):\n",
    "    if (gen2[i] + gen2[i+1]) not in dictA:\n",
    "        dictA[gen2[i]+gen2[i+1]] = 1\n",
    "    else:\n",
    "        dictA[gen2[i]+gen2[i+1]] += 1\n",
    "\n",
    "res = 0\n",
    "for i in range(0, len(gen1)-1):\n",
    "    if (gen1[i] + gen1[i+1]) in dictA:\n",
    "        res += 1\n",
    "\n",
    "print(res)"
   ]
  },
  {
   "cell_type": "code",
   "execution_count": null,
   "metadata": {},
   "outputs": [],
   "source": []
  }
 ],
 "metadata": {
  "kernelspec": {
   "display_name": "Python 3",
   "language": "python",
   "name": "python3"
  },
  "language_info": {
   "codemirror_mode": {
    "name": "ipython",
    "version": 3
   },
   "file_extension": ".py",
   "mimetype": "text/x-python",
   "name": "python",
   "nbconvert_exporter": "python",
   "pygments_lexer": "ipython3",
   "version": "3.7.6"
  }
 },
 "nbformat": 4,
 "nbformat_minor": 4
}
