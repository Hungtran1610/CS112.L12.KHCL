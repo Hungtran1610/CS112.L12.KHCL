{
 "cells": [
  {
   "cell_type": "markdown",
   "metadata": {},
   "source": [
    "# Tóm tắt\n",
    "Tìm dãy con lớn nhất và chia hết cho 3.\n",
    "\n",
    "# Nhận dạng \n",
    "Đây là bài toán chia để trị `Divide and Conquer `. Ta có thể thấy toán gồm 2 bài toán con là tìm dãy chia hết cho 3 và sắp xếp giảm dần dãy đó.\n",
    "\n",
    "# Thiết kế thuật toán\n",
    "**1. Ý TƯỞNG:**\n",
    "\n",
    "Để dễ kiểm soát, ta chia dãy số từ 1 đến 9 thành 3 nhóm. Số 0 không có ý nghĩa khi tìm ra dãy chia hết cho 3 nên ta tạm không xét đến.\n",
    "- Những số chia cho 3 dư 0 = {3, 6, 9}\n",
    "- Những số chia cho 3 dư 1 = {2, 4, 7}\n",
    "- Nhưng số chia cho 3 dư 2 = {1, 5, 8}\n",
    "\n",
    "**_Trường hợp 1:_** tổng các số trong dãy đều chia hết cho 3.\n",
    "\n",
    "Ví dụ ta có dãy số `21080412`. \n",
    "- Lần lượt tách và thực hiện cộng các số hạng trong dãy (sum). Ở đây ta có thể tính $ 2+1+0+8+0+4+1+2=18 $ chia hết cho 3. \n",
    "- Sắp xếp dãy số này từ lớn đến bé (giảm dần). \n",
    "\n",
    "=> Kết quả `84221100`.\n",
    "\n",
    "**_Trường hợp 2:_** tổng các số trong dãy không chia hết cho 3.\n",
    "\n",
    "Đây không phải là dãy số chia hết cho 3, vậy ta cần loại bỏ chữ số sao cho đó là số bé nhất và vẫn thỏa mãn dãy số còn lại chia hết cho 3. Ở đây ta có thể thấy có 2 trường hợp:\n",
    "- Tồn tại 1 chữ số trong dãy số sao cho chữ số đó chia cho 3 dư 1 hoặc dư 2.\n",
    "- Tồn tại 2 chữ số trong dãy số sao cho tổng 2 chữ đó đó chia cho 3 dư 1 hoặc dư 2.\n",
    "\n",
    "Ở cả 2 trường hợp ta đều phải tìm và loại bỏ các chữ số đó ra dãy.\n",
    "\n",
    "Ví dụ ta có dãy số `210804122`. \n",
    "- Lần lượt tách và thực hiện cộng các số hạng trong dãy (sum). Ở đây ta có thể tính $ 2+1+0+8+0+4+1+2+2=20 $ chia cho 3 dư 2. \n",
    "- Tìm vị trí của các chữ số và loại bỏ. Ở đây ta thấy 2 chữ số 1 là 2 chữ số bé nhất để loại ra và thỏa dãy còn lại chia hết cho 3.\n",
    "- Sắp xếp dãy số còn lại từ lớn đến bé (giảm dần).\n",
    "\n",
    "=> Kết quả `8422200` sao tao cứ thấy sai sai thế đéo nào ấy nhờ :( cứu tao Hưng ơi\n",
    "\n",
    "**2. THUẬT TOÁN:** \n",
    "\n",
    "B1: Dãy chia hết cho 3 thì sắp xếp dãy giảm dần, in dãy và thoát.\n",
    "```\n",
    "    initialize a(dãy số)\n",
    "    if a % 3 == 0:\n",
    "        a.reverse()\n",
    "        exit()\n",
    "```\n",
    "\n",
    "B2: Nếu dãy không chia hết cho 3 thì tìm vị trí $a[i]$ và $a[j]$ % $3$ = 1 hoặc 2. Nếu không thấy trả về $-1$. \n",
    "\n",
    "B3: Xóa vị trí đó, sắp xếp lại dãy giảm dần, in dãy và thoát."
   ]
  },
  {
   "cell_type": "code",
   "execution_count": null,
   "metadata": {},
   "outputs": [],
   "source": []
  }
 ],
 "metadata": {
  "kernelspec": {
   "display_name": "Python 3",
   "language": "python",
   "name": "python3"
  },
  "language_info": {
   "codemirror_mode": {
    "name": "ipython",
    "version": 3
   },
   "file_extension": ".py",
   "mimetype": "text/x-python",
   "name": "python",
   "nbconvert_exporter": "python",
   "pygments_lexer": "ipython3",
   "version": "3.7.6"
  }
 },
 "nbformat": 4,
 "nbformat_minor": 4
}
