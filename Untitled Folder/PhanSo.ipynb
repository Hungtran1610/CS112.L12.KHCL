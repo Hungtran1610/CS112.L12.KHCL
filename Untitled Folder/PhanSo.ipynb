{
 "cells": [
  {
   "cell_type": "markdown",
   "metadata": {},
   "source": [
    "# Tóm tắt\n",
    "\n",
    "\n",
    "\n",
    "# Nhận dạng\n",
    "Tìm ước chung lớn nhất\n",
    "\n",
    "\n",
    "# Thiết kế thuật toán\n",
    "**1. Ý TƯỞNG:**\n",
    "\n",
    "**2. THUẬT TOÁN:**\n",
    "\n",
    "**_Pseudo code:_**\n",
    "\n",
    "```\n",
    "\n",
    "```\n",
    "\n",
    "# Cài đặt"
   ]
  }
 ],
 "metadata": {
  "kernelspec": {
   "display_name": "Python 3",
   "language": "python",
   "name": "python3"
  },
  "language_info": {
   "codemirror_mode": {
    "name": "ipython",
    "version": 3
   },
   "file_extension": ".py",
   "mimetype": "text/x-python",
   "name": "python",
   "nbconvert_exporter": "python",
   "pygments_lexer": "ipython3",
   "version": "3.7.6"
  }
 },
 "nbformat": 4,
 "nbformat_minor": 4
}
