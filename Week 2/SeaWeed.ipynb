{
 "cells": [
  {
   "cell_type": "markdown",
   "metadata": {},
   "source": [
    "# Tóm tắt\n",
    "- Cho dãy số Fibonacci tại n, tìm phần tử thứ 2k+1 của dãy số\n",
    "\n",
    "# Nhận dạng\n",
    "- Fibonacci number\n",
    "\n",
    "# Thiết kế thuật toán\n",
    "\n",
    "- Input: n (1 <= n <= 1000) \n",
    "         k (1 <= k <= 10^18) \n",
    "\n",
    "- Output: giá trị của phần tử thứ 2k trong mảng\n",
    "\n",
    "- Thuật toán\n",
    "    * Lặp biến i từ 0 đến 2k + 1\n",
    "      - sum1 = n1 + n2\n",
    "      - n1 = n2\n",
    "      - n2 = sum1\n",
    "      - n3 = n3 + 1  \n",
    "      - Khi lặp xong, trả về n1\n",
    "\n",
    "\n"
   ]
  },
  {
   "cell_type": "code",
   "execution_count": 5,
   "metadata": {},
   "outputs": [
    {
     "name": "stdout",
     "output_type": "stream",
     "text": [
      "3 2\n",
      "15\n"
     ]
    }
   ],
   "source": [
    "def SeaWeeds(x, k):\n",
    "    n1 = 0\n",
    "    n2 = x\n",
    "    n3 = 0\n",
    "    sum = 0\n",
    "    for i in range(0,k*2+1):\n",
    "        sum = n1 + n2\n",
    "        n1 = n2\n",
    "        n2 = sum\n",
    "        n3 = n3 + 1\n",
    "    return n1\n",
    "\n",
    "n, k = map(int, input().split())\n",
    "kq = SeaWeeds(n,k)\n",
    "m = 1000000007\n",
    "print(kq%m)"
   ]
  },
  {
   "cell_type": "code",
   "execution_count": null,
   "metadata": {},
   "outputs": [],
   "source": []
  },
  {
   "cell_type": "code",
   "execution_count": null,
   "metadata": {},
   "outputs": [],
   "source": []
  }
 ],
 "metadata": {
  "kernelspec": {
   "display_name": "Python 3",
   "language": "python",
   "name": "python3"
  },
  "language_info": {
   "codemirror_mode": {
    "name": "ipython",
    "version": 3
   },
   "file_extension": ".py",
   "mimetype": "text/x-python",
   "name": "python",
   "nbconvert_exporter": "python",
   "pygments_lexer": "ipython3",
   "version": "3.7.6"
  }
 },
 "nbformat": 4,
 "nbformat_minor": 4
}
