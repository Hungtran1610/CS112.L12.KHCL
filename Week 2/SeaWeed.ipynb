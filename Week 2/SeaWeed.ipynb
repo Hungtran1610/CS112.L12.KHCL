{
 "cells": [
  {
   "cell_type": "markdown",
   "metadata": {},
   "source": [
    "# Tóm tắt\n",
    "Cho dãy số Fibonacci tại n, tìm phần tử thứ 2k+1 của dãy số\n",
    "\n",
    "# Nhận dạng\n",
    "Bài toán có rất nhiều phương pháp để giải quyết có thể kể ra là đệ quy, quy hoạch động hay phương trình dãy số, vv... Ở đây nhóm xin trình bày phương pháp quy hoạch động `Dynamic Programming` để tối ưu về thời gian.\n",
    "\n",
    "# Thiết kế thuật toán\n",
    "\n",
    "**_Input:_**\n",
    "- Số cá thể ban đầu nằm trong đoạn $[1, 1000]$ ($1 \\le n \\le 1000$)\n",
    "- Số ngày nằm trong đoạn $[1, 10^{18}]$ ($1 \\le k \\le 10^{18}$)\n",
    "\n",
    "**_Output:_**\n",
    "- Số lượng cá thể tảo theo mô đun $10^9$+7.\n",
    "\n",
    "**1. Ý TƯỞNG:**\n",
    "\n",
    "Chúng ta cải tiến bài toán đệ quy bằng cách sử dụng vòng lặp để tính các số fibonacci rồi sau đó lưu lại vào mảng để lấy ra sử dụng. Tuy nhiên, ta cũng có thể cải tiến hơn bằng cách không lưu trữ n phần tử fibonacci nữa mà chỉ lưu 3 phần tử cần thiết.Cách này sẽ tiết kiệm độ phức tạp thời gian nhưng phải đánh đổi độ phức tạp bộ nhớ (quy hoạch động).\n",
    "\n",
    "**2. THUẬT TOÁN:**\n",
    "\n",
    "**_Pseudo code:_**\n",
    "```\n",
    "Lặp biến i từ 0 đến 2k + 1\n",
    "    sum1 = n1 + n2\n",
    "    n1 = n2\n",
    "    n2 = sum1\n",
    "    n3 = n3 + 1  \n",
    "Khi lặp xong, trả về n1\n",
    "```\n",
    "Time complexity: O($n$)\n",
    "\n",
    "Space comfexity: O($1$)\n",
    "\n",
    "# Cài đặt"
   ]
  },
  {
   "cell_type": "code",
   "execution_count": 5,
   "metadata": {},
   "outputs": [
    {
     "name": "stdout",
     "output_type": "stream",
     "text": [
      "3 2\n",
      "15\n"
     ]
    }
   ],
   "source": [
    "def SeaWeeds(x, k):\n",
    "    n1 = 0\n",
    "    n2 = x\n",
    "    n3 = 0\n",
    "    sum = 0\n",
    "    for i in range(0,k*2+1):\n",
    "        sum = n1 + n2\n",
    "        n1 = n2\n",
    "        n2 = sum\n",
    "        n3 = n3 + 1\n",
    "    return n1\n",
    "\n",
    "n, k = map(int, input().split())\n",
    "kq = SeaWeeds(n,k)\n",
    "m = 1000000007\n",
    "print(kq%m)"
   ]
  }
 ],
 "metadata": {
  "kernelspec": {
   "display_name": "Python 3",
   "language": "python",
   "name": "python3"
  },
  "language_info": {
   "codemirror_mode": {
    "name": "ipython",
    "version": 3
   },
   "file_extension": ".py",
   "mimetype": "text/x-python",
   "name": "python",
   "nbconvert_exporter": "python",
   "pygments_lexer": "ipython3",
   "version": "3.7.6"
  }
 },
 "nbformat": 4,
 "nbformat_minor": 4
}
