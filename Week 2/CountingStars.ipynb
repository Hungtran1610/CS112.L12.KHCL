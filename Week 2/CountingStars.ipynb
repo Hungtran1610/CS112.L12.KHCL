{
 "cells": [
  {
   "cell_type": "markdown",
   "metadata": {},
   "source": [
    "# Tóm tắt\n",
    "\n",
    "Nói chung là làm sao để có được nhiều sao khi tịnh tiến 2 cục toạ độ tầm nhìn qua các điểm (sao)\n",
    "\n",
    "# Nhận dạng\n",
    "\n",
    "Toán Hình học\n",
    "\n",
    "# Thiết kế thuật toán\n",
    "\n",
    "* Tính góc α1 = atan(c/d)\n",
    "* Rỏ ràng ta có được phương trình 1: xoay trục ox 1 góc α1 với α1 = atan(a/b) -> vậy là ta có đường 1 tạm gọi là Line1: y = tan(α1)x\n",
    "* lập phương trình L: y = tan(α2 − α1)x (hoặc là không *p/s: có thể thử L: y = tan(α2)x hoặc y = tan(α1)x if u feel aventurous)\n",
    "* rồi ta thế O(xi, yi) vô 2 phương trình thì các điểm (x, y) nằm trên L dưới Line1 là điểm không cần thiết -> có thể loại bỏ các điểm rác (hoặc là không *p/s: có thể loại ngay khúc nhập dl)\n",
    "* có 2 cách từ đây:\n",
    "   - xét khoảng các euclid tất cả các điểm tới điểm đang xét\n",
    "   - cho phương trình L chạy trên trục x sao cho các điểm sao đi qua L\n",
    "       - khi tịnh tiến trên phương trình L thì ta có 2 phần phần y và y' với y\n",
    "       - khi đó ta xắp xếp lại các toạ độ theo thứ tự y' tăng dần\n",
    "       - bài toán từ đây trở thành bài toán tìm dãy con tăng dần lớn nhất"
   ]
  },
  {
   "cell_type": "code",
   "execution_count": 1,
   "metadata": {},
   "outputs": [
    {
     "name": "stdout",
     "output_type": "stream",
     "text": [
      "15\n",
      "1/4 2/1\n",
      "3 1\n",
      "6 2\n",
      "9 3\n",
      "12 4\n",
      "15 5\n",
      "2 1\n",
      "4 2\n",
      "5 3\n",
      "7 4\n",
      "1 3\n",
      "3 4\n",
      "2 5\n",
      "4 5\n",
      "1 6\n",
      "6 6\n",
      "5\n"
     ]
    }
   ],
   "source": [
    "import math\n",
    "\n",
    "def lis(arr, n):\n",
    "    temp_list = [1 for x in range(0,n)]\n",
    "    i,j = 1,0\n",
    "    while i<len(arr) and j<len(arr):\n",
    "        if arr[j][1]<arr[i][1]:\n",
    "            if temp_list[j]+1>temp_list[i]:\n",
    "                temp_list[i] = temp_list[j]+1\n",
    "        j=j+1\n",
    "        if j==i:\n",
    "            j,i=0,i+1\n",
    "    return max(temp_list)\n",
    "\n",
    "def line_function(x, y, angle):\n",
    "    return y - math.tan(angle)*x\n",
    "\n",
    "def translating(x, y, angle):\n",
    "    k = y/math.tan(angle) - x\n",
    "    return math.tan(angle)*k\n",
    "\n",
    "m = int(input())\n",
    "x, y = (input().split())\n",
    "alpha1 = math.atan(eval(x))\n",
    "alpha2 = math.atan(eval(y))\n",
    "alpha3 = alpha2 - alpha1\n",
    "coordinates = [] \n",
    "for i in range(0,m):\n",
    "    x, y = (input().split())\n",
    "    if line_function(float(x), float(y), alpha1) < 0:\n",
    "        continue\n",
    "    if line_function(float(x), float(y), alpha2) > 0:\n",
    "        continue\n",
    "    y_ = translating(float(x), float(y), alpha2 - alpha1)\n",
    "    coordinates.append((float(x), float(y), y_))\n",
    "\n",
    "coordinates.sort(key=lambda tup: tup[2], reverse=True)\n",
    "final = lis(coordinates, m)\n",
    "\n",
    "print(final)"
   ]
  },
  {
   "cell_type": "code",
   "execution_count": null,
   "metadata": {},
   "outputs": [],
   "source": []
  }
 ],
 "metadata": {
  "kernelspec": {
   "display_name": "Python 3",
   "language": "python",
   "name": "python3"
  },
  "language_info": {
   "codemirror_mode": {
    "name": "ipython",
    "version": 3
   },
   "file_extension": ".py",
   "mimetype": "text/x-python",
   "name": "python",
   "nbconvert_exporter": "python",
   "pygments_lexer": "ipython3",
   "version": "3.7.4"
  }
 },
 "nbformat": 4,
 "nbformat_minor": 4
}
