{
 "cells": [
  {
   "cell_type": "markdown",
   "metadata": {},
   "source": [
    "# Tóm tắt\n",
    "\n",
    "Tìm ra một chuỗi sao, sao cho độ dài chuỗi sao dài nhất có thể khi tịnh tiến 2 cục toạ độ tầm nhìn qua các điểm (sao)\n",
    "\n",
    "# Nhận dạng\n",
    "\n",
    "Ta cần áp dụng một số tính chất của toán hình học để thỏa mãn một số tính chất của góc và quy bài toán về tìm dãy con lớn nhất\n",
    "\n",
    "# Thiết kế thuật toán\n",
    "**_Input:_**\n",
    "- Dòng đầu tiên: Một số integer n ($1\\le n \\le10^5$) - Số ngôi sao\n",
    "- Dòng thứ hai: 2 phân số đơn giản thể hiện mối quan hệ \"a/b c/d\", sao cho $\\frac{a}{b} = \\frac{sin({\\alpha}_{1})}{cos({\\alpha}_{1})}$, $\\frac{c}{d} = \\frac{sin({\\alpha}_{2})}{cos({\\alpha}_{2})}$\n",
    "- n dòng tiếp theo: cặp số integer $x_i, y_i(1 \\le x_i , y_i \\le 10^5)$ - Tọa độ các ngôi sao, biết rằng mọi ngôi sao có tọa độ khác nhau.\n",
    "\n",
    "**_Output:_**\n",
    "- Số sao lớn nhất mà chuỗi của Jerry có thể chứa.\n",
    "\n",
    "**Ý TƯỞNG**\n",
    "- Tính góc ${\\alpha}_{1}$ = $arctan(\\frac{a}{b})$.\n",
    "- Rõ ràng ta có được phương trình 1: xoay trục $Ox$ 1 góc ${\\alpha}_{1}$ với ${\\alpha}_{1}$ = $arctan(\\frac{a}{b})$ => vậy là ta có đường 1 tạm gọi là $L1$: y = $tan({\\alpha}_{1})x$.\n",
    "- Lập phương trình $L$: y = $tan({\\alpha}_{2} − {\\alpha}_{1})x$ [hoặc có thể thử $L$: y = $tan({\\alpha}_{1})x$ hoặc y = $tan({\\alpha}_{2})x$ if u feel aventurous] rồi ta thế $O(x_i, y_i)$ vô 2 phương trình thì các điểm $(x, y)$ nằm trên $L$ dưới $L1$ là điểm không cần thiết => có thể loại bỏ các điểm rác.\n",
    "- Có 2 cách từ đây:\n",
    "    * Xét khoảng các Euclid tất cả các điểm tới điểm đang xét.\n",
    "    * Cho phương trình $L$ chạy trên trục $x$ sao cho các điểm sao đi qua $L$.\n",
    "        * Khi tịnh tiến trên phương trình $L$ thì ta có 2 phần phần $y$ và $y'$ với $y$.\n",
    "        * Khi đó ta xắp xếp lại các toạ độ theo thứ tự $y'$ tăng dần.\n",
    "        * Bài toán từ đây trở thành bài toán tìm dãy con tăng dần lớn nhất.\n",
    "        \n",
    "# Cài đặt"
   ]
  },
  {
   "cell_type": "code",
   "execution_count": 1,
   "metadata": {},
   "outputs": [
    {
     "name": "stdout",
     "output_type": "stream",
     "text": [
      "15\n",
      "1/4 2/1\n",
      "3 1\n",
      "6 2\n",
      "9 3\n",
      "12 4\n",
      "15 5\n",
      "2 1\n",
      "4 2\n",
      "5 3\n",
      "7 4\n",
      "1 3\n",
      "3 4\n",
      "2 5\n",
      "4 5\n",
      "1 6\n",
      "6 6\n",
      "5\n"
     ]
    }
   ],
   "source": [
    "import math\n",
    "\n",
    "def lis(arr, n):\n",
    "    temp_list = [1 for x in range(0,n)]\n",
    "    i,j = 1,0\n",
    "    while i<len(arr) and j<len(arr):\n",
    "        if arr[j][1]<arr[i][1]:\n",
    "            if temp_list[j]+1>temp_list[i]:\n",
    "                temp_list[i] = temp_list[j]+1\n",
    "        j=j+1\n",
    "        if j==i:\n",
    "            j,i=0,i+1\n",
    "    return max(temp_list)\n",
    "\n",
    "def line_function(x, y, angle):\n",
    "    return y - math.tan(angle)*x\n",
    "\n",
    "def translating(x, y, angle):\n",
    "    k = y/math.tan(angle) - x\n",
    "    return math.tan(angle)*k\n",
    "\n",
    "m = int(input())\n",
    "x, y = (input().split())\n",
    "alpha1 = math.atan(eval(x))\n",
    "alpha2 = math.atan(eval(y))\n",
    "alpha3 = alpha2 - alpha1\n",
    "coordinates = [] \n",
    "for i in range(0,m):\n",
    "    x, y = (input().split())\n",
    "    if line_function(float(x), float(y), alpha1) < 0:\n",
    "        continue\n",
    "    if line_function(float(x), float(y), alpha2) > 0:\n",
    "        continue\n",
    "    y_ = translating(float(x), float(y), alpha2 - alpha1)\n",
    "    coordinates.append((float(x), float(y), y_))\n",
    "\n",
    "coordinates.sort(key=lambda tup: tup[2], reverse=True)\n",
    "final = lis(coordinates, m)\n",
    "\n",
    "print(final)"
   ]
  },
  {
   "cell_type": "code",
   "execution_count": null,
   "metadata": {},
   "outputs": [],
   "source": []
  }
 ],
 "metadata": {
  "kernelspec": {
   "display_name": "Python 3",
   "language": "python",
   "name": "python3"
  },
  "language_info": {
   "codemirror_mode": {
    "name": "ipython",
    "version": 3
   },
   "file_extension": ".py",
   "mimetype": "text/x-python",
   "name": "python",
   "nbconvert_exporter": "python",
   "pygments_lexer": "ipython3",
   "version": "3.7.6"
  }
 },
 "nbformat": 4,
 "nbformat_minor": 4
}
