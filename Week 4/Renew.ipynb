{
 "cells": [
  {
   "cell_type": "markdown",
   "metadata": {},
   "source": [
    "# Tóm tắt\n",
    " Tìm x sao cho thỏa công thức bài toán đưa ra \n",
    "\n",
    "\n",
    "# Nhận dạng \n",
    " Toán học, tìm kiếm nhị phân\n",
    "\n",
    "\n",
    "# Thiết kế thuật toán\n",
    "1. Ý TƯỞNG\n",
    "\n",
    "Trước tiên, ta phân tích bài toán một chút. Gọi $x$ là số ngày cần thiết để hoàn thành. Khi đó, số ngày nghỉ của đội $I$ là $\\frac{x}{k}$. Từ đây ta có thể suy ra:\n",
    "\n",
    "- Số ngày làm là $x-\\frac{x}{k}$.\n",
    "\n",
    "- Sô cây đốn hạ được là $(x-\\frac{x}{k}) \\times a$.\n",
    "\n",
    "Tương tự với đội $II$, ta có số cây đốn hạ được là $(x-\\frac{x}{m}) \\times b$ \n",
    "\n",
    "Vậy yêu cầu của bài toán là tìm số ngày $S(x)$ với $S(x) = $($x-\\frac{x}{k}$) $\\times a$ + ($x-\\frac{x}{m}$) $\\times b$.\n",
    "\n",
    "\n",
    "\n",
    "Yêu cầu:\n",
    "- $1 \\le a, b \\le 10^9. $\n",
    "- $2 \\le k, m \\le 10^{18}. $\n",
    "- $1 \\le n \\le 10^{18}. $\n",
    "- $a, k, b, m, n \\in \\mathbb{N}.$\n",
    "\n",
    "\n",
    "2. THUẬT TOÁN\n",
    "\n",
    "Sử dụng tìm kiếm nhị phân: \n",
    "- Khởi tạo low, high là đoạn ta cần tìm.\n",
    "   * Nếu S[mid] $\\geqslant$ $n$ (với mid là vị trí giữa của đoạn từ low đến high), ta tiếp tục tìm trong đoạn từ low đến mid.\n",
    "   * Nếu S[mid] $\\le$ $n$ tức là các phần tử từ low đến mid đều không thỏa thì ta tiếp tục tìm trong đoạn từ mid + 1 đến high.\n",
    "\n",
    "- Độ phức tạp thuật toán là ${O(log(n))}.$\n",
    "\n",
    "Pseudocode:\n",
    "\n",
    "```\n",
    "initialize low, high\n",
    "loop:\n",
    "    mid = (low + high) / 2\n",
    "    if S(mid) >= n:\n",
    "        find low->mid\n",
    "    else:\n",
    "        find (mid+1)->high\n",
    "```"
   ]
  },
  {
   "cell_type": "code",
   "execution_count": 4,
   "metadata": {},
   "outputs": [
    {
     "name": "stdout",
     "output_type": "stream",
     "text": [
      "2 4 3 3 25\n",
      "7\n"
     ]
    }
   ],
   "source": [
    "a, k, b, m, n = [int(x) for x in input().split()]\n",
    "\n",
    "\n",
    "def S(x):\n",
    "    return a * (x - x//k) + b * (x - x//m)\n",
    "\n",
    "\n",
    "res = -1\n",
    "low = 0\n",
    "high = int(1e18)\n",
    "\n",
    "# tìm kiếm nhị phân\n",
    "while low <= high:\n",
    "    mid = (low + high) //2\n",
    "    if S(mid) >= n: \n",
    "        res = mid\n",
    "        high = mid - 1\n",
    "    else:                  \n",
    "        low = mid + 1\n",
    "\n",
    "print(res)"
   ]
  },
  {
   "cell_type": "code",
   "execution_count": null,
   "metadata": {},
   "outputs": [],
   "source": []
  }
 ],
 "metadata": {
  "kernelspec": {
   "display_name": "Python 3",
   "language": "python",
   "name": "python3"
  },
  "language_info": {
   "codemirror_mode": {
    "name": "ipython",
    "version": 3
   },
   "file_extension": ".py",
   "mimetype": "text/x-python",
   "name": "python",
   "nbconvert_exporter": "python",
   "pygments_lexer": "ipython3",
   "version": "3.7.6"
  }
 },
 "nbformat": 4,
 "nbformat_minor": 4
}
