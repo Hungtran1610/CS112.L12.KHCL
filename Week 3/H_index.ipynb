{
 "cells": [
  {
   "cell_type": "markdown",
   "metadata": {},
   "source": [
    "# Đề bài\n",
    "\n",
    "<p style=\"text-align:justify\">Làm thế nào để đánh giá sự thành công của một nhà khoa học?&nbsp; Dựa vào số bài báo được công bố hay dựa vào số lần một bài báo được trích dẫn tới ở công trình của những người khác? Cả hai tham số đó đều quan trọng.</p>\n",
    "\n",
    "<p style=\"text-align:justify\">Một bài báo có điểm số trích dẫn là <strong><em>c</em></strong> nếu nó được trích dẫn tới <strong><em>c</em></strong> lần trong các công trình của những nhà khoa học khác. Một trong số các cách đánh giá sự thành công của một nhà khoa học là tính chỉ số ảnh hưởng <strong><em>H_Index</em></strong> dựa trên sự kết hợp giữa số lượng bài báo và chỉ số trích dẫn của các bài báo đó.</p>\n",
    "\n",
    "<p style=\"text-align:justify\">Chỉ số <strong><em>H_Index</em></strong>của một nhà khoa học bằng <strong><em>k</em></strong> lớn nhất nếu người đó có <strong><em>k</em></strong> bài báo, mỗi bài có điểm số trích dẫn không nhỏ hơn <strong><em>k</em></strong>. Ví dụ, một người có 10 bài báo, mỗi bài báo được trích dẫn không dưới 10 lần thì <strong><em>H_Index</em></strong> của người đó ít nhất là bằng 10.</p>\n",
    "\n",
    "<p style=\"text-align:justify\">Một người có <strong><em>n</em></strong> bài báo, bài báo thứ <strong><em>i</em></strong> có điểm trích dẫn là <strong><em>c<sub>i</sub></em></strong>, <strong><em>i</em></strong> = 1 ÷ <strong><em>n</em></strong>. Hãy xác định <strong><em>H_Index</em></strong> của người đó.</p>\n",
    "\n",
    "<p style=\"text-align:justify\"><strong><em>Dữ liệu:</em></strong> Vào từ thiết bị nhập chuẩn:</p>\n",
    "\n",
    "<ul>\n",
    "\t<li style=\"text-align:justify\">Dòng đầu tiên chứa một số nguyên <strong><em>n</em></strong> (1 ≤ <strong><em>n</em></strong> ≤ 5×10<sup>5</sup>),</li>\n",
    "\t<li style=\"text-align:justify\">Dòng thứ 2 chứa <strong><em>n</em></strong> số nguyên <strong><em>c<sub>1</sub></em></strong>, <strong><em>c<sub>2</sub></em></strong>, . . ., <strong><em>c<sub>n</sub></em></strong> (0 ≤ <strong><em>c<sub>i</sub></em></strong> ≤ 10<sup>6</sup>, <strong><em>i</em></strong> = 1 ÷ <strong><em>n</em></strong>).</li>\n",
    "</ul>\n",
    "\n",
    "<p style=\"text-align:justify\"><strong><em>Kết quả:</em></strong> Đưa ra thiết bị xuất chuẩn một số nguyên – <strong><em>H_Index</em></strong> tìm được.</p>\n",
    "\n",
    "<p style=\"text-align:justify\"><strong><em>Ví dụ: </em></strong></p>\n",
    "\n",
    "<p>&nbsp;</p>\n",
    "\n",
    "<table border=\"1\" cellspacing=\"0\">\n",
    "\t<tbody>\n",
    "\t\t<tr>\n",
    "\t\t\t<td style=\"background-color:#fff2cc; width:99.0pt\">\n",
    "\t\t\t<p style=\"text-align:center\"><tt>INPUT</tt></p>\n",
    "\t\t\t</td>\n",
    "\t\t\t<td style=\"vertical-align:top; width:40.5pt\">\n",
    "\t\t\t<p style=\"text-align:center\">&nbsp;</p>\n",
    "\t\t\t</td>\n",
    "\t\t\t<td style=\"background-color:#fff2cc; width:96.5pt\">\n",
    "\t\t\t<p style=\"text-align:center\"><tt>OUTPUT</tt></p>\n",
    "\t\t\t</td>\n",
    "\t\t</tr>\n",
    "\t\t<tr>\n",
    "\t\t\t<td rowspan=\"2\" style=\"background-color:#fff2cc; height:16.9pt; width:99.0pt\">\n",
    "\t\t\t<p><tt><strong>5</strong></tt></p>\n",
    "\t\t\t<p><tt><strong>8 5 3 4 10</strong></tt></p>\n",
    "\t\t\t</td>\n",
    "\t\t\t<td rowspan=\"2\" style=\"height:16.9pt; vertical-align:top; width:40.5pt\">\n",
    "\t\t\t<p>&nbsp;</p>\n",
    "\t\t\t</td>\n",
    "\t\t\t<td style=\"background-color:#fff2cc; height:16.9pt; width:96.5pt\">\n",
    "\t\t\t<p><tt><strong>4</strong></tt></p>\n",
    "\t\t\t</td>\n",
    "\t\t</tr>\n",
    "\t\t<tr>\n",
    "\t\t\t<td style=\"height:10.3pt; vertical-align:bottom; width:96.5pt\">&nbsp;</td>\n",
    "\t\t</tr>\n",
    "\t</tbody>\n",
    "</table>\n",
    "\n",
    "<p>&nbsp;</p>\n",
    "\n",
    "\t\t\n",
    "# Tóm tắt\n",
    "Tìm số k sao cho có k phần tử trong dãy lớn hơn hoặc bằng k\n",
    "\n",
    "# Nhận dạng\n",
    "Sắp xếp mảng và so sánh các phần tử trong mảng\n",
    "\n",
    "# Thiết kế thuật toán\n",
    "**_Input:_**\n",
    "- Dòng đầu tiên chứa một số nguyên $n$ ($1 \\le n \\le 5*10^5$),\n",
    "- Dòng thứ 2 chứa n số nguyên $c_1, c_2, . . ., c_n (0 \\le c_i \\le 10^6, i = 1 ÷ n)$.\n",
    "\n",
    "**_Output:_**\n",
    "- Một số nguyên – H_Index tìm được\n",
    "\n",
    "**Ý TƯỞNG:**\n",
    "\n",
    "- Gọi dãy $A$ là dãy gồm các phần tử chỉ số lượng trích dẫn của bài báo và thực hiện sắp xếp giảm dần \n",
    "- Sau đó bắt đầu duyệt từ phần tử $A_0$.\n",
    "     * Tại mỗi vị trí thứ $i$ ta so sánh xem số lượng phần tử còn lại nhỏ hơn vị trí có giá trị phần tử tại vị trí thứ $i$ hay không. => Nếu có thì đó chính là $k$. \n",
    "    \n",
    "- Độ phức tạp của giải thuật này là: $O(n \\log n)$\n",
    "\n",
    "# Cài đặt"
   ]
  },
  {
   "cell_type": "code",
   "execution_count": 1,
   "metadata": {},
   "outputs": [
    {
     "name": "stdout",
     "output_type": "stream",
     "text": [
      "5\n",
      "8 5 3 4 10\n",
      "4\n"
     ]
    }
   ],
   "source": [
    "n = int(input())\n",
    "if n > 0:\n",
    "    a = list(map(int, input().split()))\n",
    "\n",
    "sum = 0\n",
    "\n",
    "if not a:\n",
    "    print(0)\n",
    "sum  = max([min(i + 1, c) for i, c in enumerate(sorted(a, reverse=True))])\n",
    "    \n",
    "print(sum)"
   ]
  },
  {
   "cell_type": "code",
   "execution_count": null,
   "metadata": {},
   "outputs": [],
   "source": []
  }
 ],
 "metadata": {
  "kernelspec": {
   "display_name": "Python 3",
   "language": "python",
   "name": "python3"
  },
  "language_info": {
   "codemirror_mode": {
    "name": "ipython",
    "version": 3
   },
   "file_extension": ".py",
   "mimetype": "text/x-python",
   "name": "python",
   "nbconvert_exporter": "python",
   "pygments_lexer": "ipython3",
   "version": "3.7.6"
  }
 },
 "nbformat": 4,
 "nbformat_minor": 4
}
