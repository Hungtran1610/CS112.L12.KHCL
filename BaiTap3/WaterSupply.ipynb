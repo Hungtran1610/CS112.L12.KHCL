{
 "cells": [
  {
   "cell_type": "markdown",
   "metadata": {},
   "source": [
    "# Tóm tắt\n",
    "\n",
    "Tìm số ống CẦN để các nhà vẫn được kết nối\n",
    "Tìm số tổ hợp có thể có\n",
    "\n",
    "# Nhận dạng\n",
    "\n",
    "đồ thị + chỉnh hợp tổ hợp\n",
    "\n",
    "# Thiết kế thuật toán\n",
    "\n",
    "giả sử ta có một dãy các nhà:\n",
    "3 4 1\n",
    "2 5\n",
    "6 7\n",
    "mỗi dòng là mỗi dãy nhà có được kết nối với nhau vậy ở trên ta có 3 dãy nhà vẫn được kết nối với nhau vậy đường ống *CẦN* để lắp vào những nơi thiếu là 3\n",
    "\n",
    "câu hỏi thứ hai là tính chỉnh hợp tổ hợp để lắp ráp đường ống cho thông mỗi dòng vậy ta có:\n",
    "dãy 1 có 3 cách chọn\n",
    "dãy 2 có 2 cách chọn\n",
    "dãy 3 có 2 cách chọn\n",
    "vậy theo nguyên tắc tổ hợp thì số cách lắp sẽ bằng 3*2*2*(3C2)\n",
    "\n",
    "> 1 tạo ma trận đối ngẫu biểu diễn đồ thị\n",
    "> cho ma trận đi qua thuật toán để tìm ra các cặp nhà được kết nối nhau\n",
    "> theo công thức mà tính"
   ]
  },
  {
   "cell_type": "code",
   "execution_count": 1,
   "metadata": {},
   "outputs": [
    {
     "name": "stdout",
     "output_type": "stream",
     "text": [
      "3 1\n",
      "1 2\n",
      "1\n",
      "2\n"
     ]
    }
   ],
   "source": [
    "def bfs(the_list, start):\n",
    "    queue = []\n",
    "    retrn = []\n",
    "    queue.append(start)\n",
    "    top = None\n",
    "    while len(queue) != 0:\n",
    "        top = queue.pop(0)\n",
    "        retrn.append(top)\n",
    "        queue.extend([i for i, ob in enumerate(the_list[top]) if ob == 1 and i not in retrn])\n",
    "\n",
    "    return retrn\n",
    "\n",
    "\n",
    "n, m = list(map(int, input().split()))\n",
    "\n",
    "house_ho = [[0]*n for i in [0]*n]\n",
    "close = []\n",
    "sum_result = 0\n",
    "mult_result = 1\n",
    "\n",
    "for i in range(0, m):\n",
    "    x, y = list(map(int, input().split()))\n",
    "    if house_ho[x][y] == 1 or house_ho[y][x] == 1:\n",
    "        continue\n",
    "    house_ho[x][y] = 1\n",
    "    house_ho[y][x] = 1\n",
    "\n",
    "for i in range(0, n):\n",
    "    if i in close:\n",
    "        continue\n",
    "    close_extend = bfs(house_ho, i)\n",
    "    close.extend(close_extend)\n",
    "    sum_result += 1\n",
    "    mult_result *= len(close_extend)\n",
    "\n",
    "print(sum_result - 1)\n",
    "print(mult_result)\n",
    "#Tính sai rồi mà lười làm tiếp quá quá Hồ hay Hoà làm tiếp giùm tao"
   ]
  },
  {
   "cell_type": "code",
   "execution_count": null,
   "metadata": {},
   "outputs": [],
   "source": []
  }
 ],
 "metadata": {
  "kernelspec": {
   "display_name": "Python 3",
   "language": "python",
   "name": "python3"
  },
  "language_info": {
   "codemirror_mode": {
    "name": "ipython",
    "version": 3
   },
   "file_extension": ".py",
   "mimetype": "text/x-python",
   "name": "python",
   "nbconvert_exporter": "python",
   "pygments_lexer": "ipython3",
   "version": "3.8.3"
  }
 },
 "nbformat": 4,
 "nbformat_minor": 4
}
