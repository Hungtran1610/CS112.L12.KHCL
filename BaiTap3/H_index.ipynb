{
 "cells": [
  {
   "cell_type": "markdown",
   "metadata": {},
   "source": [
    "# Tóm tắt\n",
    "- Tìm số k sao cho có k phần tử trong dãy lớn hơn hoặc bằng k\n",
    "- Ràng buộc:\n",
    "    * $n$ ($1 \\le n \\le 5*10^5$),\n",
    "    * $c_1, c_2, . . ., c_n (0 \\le c_i \\le 10^6, i = 1 ÷ $n$)$.\n",
    "\n",
    "\n",
    "# Nhận dạng\n",
    "- Bài toán quy hoạch động\n",
    "\n",
    "\n",
    "# Thiết kế thuật toán\n",
    "- Gọi dãy $A$ là dãy gồm các phần tử chỉ số lượng trích dẫn của bài báo và thực hiện sắp xếp giảm dần \n",
    "- Sau đó bắt đầu duyệt từ phần tử $A_0$.\n",
    "     * Tại mỗi vị trí thứ $i$ ta so sánh xem số lượng phần tử còn lại nhỏ hơn vị trí có giá trị phần tử tại vị trí thứ $i$ hay không. => Nếu có thì đó chính là $k$. \n",
    "- Độ phức tạp của giải thuật này là: $O(n \\log n)$\n",
    "\n",
    "# Code"
   ]
  },
  {
   "cell_type": "code",
   "execution_count": 1,
   "metadata": {},
   "outputs": [
    {
     "name": "stdout",
     "output_type": "stream",
     "text": [
      "5\n",
      "8 5 3 4 10\n",
      "4\n"
     ]
    }
   ],
   "source": [
    "n = int(input())\n",
    "if n > 0:\n",
    "    a = list(map(int, input().split()))\n",
    "\n",
    "sum = 0\n",
    "\n",
    "if not a:\n",
    "    print(0)\n",
    "sum  = max([min(i + 1, c) for i, c in enumerate(sorted(a, reverse=True))])\n",
    "    \n",
    "print(sum)"
   ]
  },
  {
   "cell_type": "code",
   "execution_count": null,
   "metadata": {},
   "outputs": [],
   "source": []
  }
 ],
 "metadata": {
  "kernelspec": {
   "display_name": "Python 3",
   "language": "python",
   "name": "python3"
  },
  "language_info": {
   "codemirror_mode": {
    "name": "ipython",
    "version": 3
   },
   "file_extension": ".py",
   "mimetype": "text/x-python",
   "name": "python",
   "nbconvert_exporter": "python",
   "pygments_lexer": "ipython3",
   "version": "3.7.6"
  }
 },
 "nbformat": 4,
 "nbformat_minor": 4
}
