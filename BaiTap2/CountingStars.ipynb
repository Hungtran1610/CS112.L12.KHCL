{
 "cells": [
  {
   "cell_type": "markdown",
   "metadata": {},
   "source": [
    "# Tóm tắt\n",
    "\n",
    "Nói chung là làm sao để có được nhiều sao khi tịnh tiến 2 cục toạ độ tầm nhìn qua các điểm (sao)\n",
    "\n",
    "# Nhận dạng\n",
    "\n",
    "Toán Hình học\n",
    "\n",
    "# Thiết kế thuật toán\n",
    "\n",
    "* Tính góc α1 = atan(c/d)\n",
    "* Rỏ ràng ta có được phương trình 1: xoay trục ox 1 góc α1 với α1 = atan(a/b) -> vậy là ta có đường 1 tạm gọi là Line1: y = tan(α1)x\n",
    "* lập phương trình L: y = tan(α2 − α1)x (hoặc là không *p/s: có thể thử L: y = tan(α2)x hoặc y = tan(α1)x if u feel aventurous)\n",
    "* rồi ta thế O(xi, yi) vô 2 phương trình thì các điểm (x, y) nằm trên L dưới Line1 là điểm không cần thiết -> có thể loại bỏ các điểm rác (hoặc là không *p/s: có thể loại ngay khúc nhập dl)\n",
    "* có 2 cách từ đây:\n",
    "   - xét khoảng các euclid tất cả các điểm tới điểm đang xét\n",
    "   - cho phương trình L chạy trên trục x sao cho các điểm sao đi qua L\n",
    "       - khi tịnh tiến trên phương trình L thì ta có 2 phần phần y và y' với y\n",
    "       - khi đó ta xắp xếp lại các toạ độ theo thứ tự y' tăng dần\n",
    "       - bài toán từ đây trở thành bài toán tìm dãy con tăng dần lớn nhất"
   ]
  },
  {
   "cell_type": "code",
   "execution_count": null,
   "metadata": {},
   "outputs": [],
   "source": [
    "import math\n",
    "\n",
    "global maximum \n",
    "\n",
    "def _lis(arr , n ): \n",
    "    global maximum \n",
    "    if n == 1 : \n",
    "        return 1\n",
    "    maxEndingHere = 1\n",
    "    for i in range(1, n): \n",
    "        res = _lis(arr , i) \n",
    "        if arr[i-1][1] < arr[n-1][1] and res+1 > maxEndingHere: \n",
    "            maxEndingHere = res +1\n",
    "    maximum = max(maximum , maxEndingHere) \n",
    "\n",
    "    return maxEndingHere \n",
    "\n",
    "def lis(arr):\n",
    "    global maximum \n",
    "\n",
    "    n = len(arr) \n",
    "\n",
    "    maximum = 1\n",
    "\n",
    "    _lis(arr , n) \n",
    "\n",
    "    return maximum\n",
    "\n",
    "m = int(input())\n",
    "x, y = (input().split())\n",
    "alpha1 = math.atan(eval(x))\n",
    "alpha2 = math.atan(eval(y))\n",
    "alpha3 = alpha2 - alpha1\n",
    "coordinates = [] \n",
    "for i in range(m):\n",
    "    x, y = (input().split())\n",
    "    coordinates.append((int(x),int(y)))\n",
    "\n",
    "#làm gì cái gì đó siêu to khổng lồ ở đây\n",
    "coordinates.sort(key=lambda tup: tup[1])\n",
    "final = lis(coordinates)\n",
    "\n",
    "# print(final)\n",
    "\n",
    "# print(coordinates)\n",
    "# print(alpha1, alpha2)\n",
    "# print(m)"
   ]
  }
 ],
 "metadata": {
  "kernelspec": {
   "display_name": "Python 3",
   "language": "python",
   "name": "python3"
  },
  "language_info": {
   "codemirror_mode": {
    "name": "ipython",
    "version": 3
   },
   "file_extension": ".py",
   "mimetype": "text/x-python",
   "name": "python",
   "nbconvert_exporter": "python",
   "pygments_lexer": "ipython3",
   "version": "3.7.6"
  }
 },
 "nbformat": 4,
 "nbformat_minor": 4
}
