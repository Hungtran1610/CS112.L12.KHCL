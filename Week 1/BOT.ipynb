{
 "cells": [
  {
   "cell_type": "markdown",
   "metadata": {},
   "source": [
    "# Tóm tắt\n",
    "\n",
    "Tìm dãy con liên tiếp có tổng lớn nhất\n",
    "\n",
    "# Nhận dạng\n",
    "Bài toán này có thể sử dụng một số phương pháp như sau:\n",
    "- Phương án 1: Phương pháp vét cạn `Brute Force` nếu không yêu cần thời gian xử lí.\n",
    "- Phương án 2: Phương pháp quy hoạch động `Dynamic Programming` để tối ưu về thời gian.\n",
    "\n",
    "# Thiết kế thuật toán \n",
    "**_Input:_**\n",
    "- Độ dài dãy $a$ ($n$) không được nhiều hơn $10^6$ ( $0 \\le n\\le 10^6$ )\n",
    "- Mỗi phần tử thứ $i$ của dãy $a$ không được vượt quá $10^9$ ( $0 \\le a_i \\le 10^9$ )\n",
    "\n",
    "**_Output:_**\n",
    " - Hai số nguyên p, q là đoạn cần tìm kiếm và lãi thu được.\n",
    "\n",
    "**1. Ý TƯỞNG:**\n",
    "\n",
    "Về phương pháp quy hoạch động, ta sử dụng một biến tạm để lưu trữ tổng giá trị đến thời điểm hiện tại. Ta thấy có 3 trường hợp xảy ra: \n",
    "- Nếu biến tạm lớn hơn biến kết quả thì cập nhật kết quả = biến tạm \n",
    "- Nếu biến tạm bé hơn biến kết và không bé hơn không, ta vẫn cộng giá trị của mảng và duyệt tiếp \n",
    "- Nếu biến tạm bé hơn 0, lúc này đoạn con cập nhật tới thời điểm hiện tại không còn ý nghĩa nữa vì nếu\n",
    "- Cộng tiếp tục giá trị tiếp theo, nếu là số dương thì dương + âm vẫn bé hơn số dương đó, nếu là số âm thì đoạn càng giảm..\n",
    "    \n",
    "**2. THUẬT TOÁN:**\n",
    "\n",
    "**_Pseudo code:_**\n",
    "```\n",
    "res_data = \n",
    "{\n",
    "    'from': 1,\n",
    "    'to': len(data),\n",
    "    'sum': sum(data)\n",
    "}\n",
    "\n",
    "from_Var = 0\n",
    "\n",
    "lặp cho đến khi array_len lớn hơn from_var:\n",
    "    for i = from_var đến array_len:\n",
    "        if range_sum > res_data['sum']:\n",
    "            res_data['from'] = from_var + 1\n",
    "            res_data['to'] = i\n",
    "            res_data['sum'] = range_sum\n",
    "        from_var += 1\n",
    "```"
   ]
  },
  {
   "cell_type": "markdown",
   "metadata": {},
   "source": [
    "# Cài đặt\n",
    "**1. Input:**"
   ]
  },
  {
   "cell_type": "code",
   "execution_count": 2,
   "metadata": {},
   "outputs": [],
   "source": [
    "import re\n",
    "\n",
    "def read_data():\n",
    "    with open('input.txt', 'r') as file:\n",
    "        lines = file.readlines()\n",
    "\n",
    "    n = int(lines[0])\n",
    "    data_list = re.split('\\s', lines[1])\n",
    "    filtered_list = list(filter(lambda y: y != '', data_list))\n",
    "    res = list(map(lambda y: int(y), filtered_list))\n",
    "    \n",
    "    return res, n"
   ]
  },
  {
   "cell_type": "markdown",
   "metadata": {},
   "source": [
    "**2. Phương án 1:**"
   ]
  },
  {
   "cell_type": "code",
   "execution_count": 3,
   "metadata": {},
   "outputs": [
    {
     "name": "stdout",
     "output_type": "stream",
     "text": [
      "{'from': 5, 'to': 15, 'sum': 12}\n"
     ]
    }
   ],
   "source": [
    "from_var = 0\n",
    "data, size = read_data()\n",
    "\n",
    "res_data = {\n",
    "    'from': 1,\n",
    "    'to': len(data),\n",
    "    'sum': sum(data)\n",
    "}\n",
    "\n",
    "while len(data) > from_var:\n",
    "    for i in range(from_var, len(data)):\n",
    "        range_sum = sum(data[from_var: i])\n",
    "        if range_sum > res_data['sum']:\n",
    "            res_data['from'] = from_var + 1\n",
    "            res_data['to'] = i\n",
    "            res_data['sum'] = range_sum\n",
    "    from_var += 1\n",
    "\n",
    "print(res_data)"
   ]
  },
  {
   "cell_type": "markdown",
   "metadata": {},
   "source": [
    "**2. Phương án 2:**\n",
    "\n",
    "Nguồn tham khảo: https://www.geeksforgeeks.org/largest-sum-contiguous-subarray/"
   ]
  },
  {
   "cell_type": "code",
   "execution_count": 4,
   "metadata": {},
   "outputs": [
    {
     "name": "stdout",
     "output_type": "stream",
     "text": [
      "{'from': 5, 'to': 15, 'sum': 12}\n"
     ]
    }
   ],
   "source": [
    "data, size = read_data()\n",
    "res_data = {\n",
    "    'from': 1,\n",
    "    'to': len(data),\n",
    "    'sum': sum(data)\n",
    "}\n",
    "\n",
    "max_so_far = -1\n",
    "max_ending_here = 0\n",
    "index = 0\n",
    "       \n",
    "for i in range(0, size): \n",
    "    max_ending_here += data[i] \n",
    "    if (max_so_far < max_ending_here):\n",
    "        max_so_far = max_ending_here \n",
    "        res_data['sum'] = max_so_far\n",
    "        res_data['from'] = index + 1\n",
    "        res_data['to'] = i + 1\n",
    "  \n",
    "    if max_ending_here < 0: \n",
    "        max_ending_here = 0\n",
    "        index = i + 1\n",
    "\n",
    "print(res_data)"
   ]
  },
  {
   "cell_type": "code",
   "execution_count": null,
   "metadata": {},
   "outputs": [],
   "source": []
  }
 ],
 "metadata": {
  "kernelspec": {
   "display_name": "Python 3",
   "language": "python",
   "name": "python3"
  },
  "language_info": {
   "codemirror_mode": {
    "name": "ipython",
    "version": 3
   },
   "file_extension": ".py",
   "mimetype": "text/x-python",
   "name": "python",
   "nbconvert_exporter": "python",
   "pygments_lexer": "ipython3",
   "version": "3.7.6"
  }
 },
 "nbformat": 4,
 "nbformat_minor": 1
}
